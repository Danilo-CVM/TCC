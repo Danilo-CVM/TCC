{
  "nbformat": 4,
  "nbformat_minor": 0,
  "metadata": {
    "kernelspec": {
      "display_name": "Python 3",
      "language": "python",
      "name": "python3"
    },
    "language_info": {
      "codemirror_mode": {
        "name": "ipython",
        "version": 3
      },
      "file_extension": ".py",
      "mimetype": "text/x-python",
      "name": "python",
      "nbconvert_exporter": "python",
      "pygments_lexer": "ipython3",
      "version": "3.7.3"
    },
    "colab": {
      "name": "V3_LSTM_previsão_Decisionforest - V1 com bovespa e avaliação percentual de acertos pronta.ipynb",
      "provenance": [],
      "include_colab_link": true
    }
  },
  "cells": [
    {
      "cell_type": "markdown",
      "metadata": {
        "id": "view-in-github",
        "colab_type": "text"
      },
      "source": [
        "<a href=\"https://colab.research.google.com/github/Danilo-CVM/TCC/blob/main/V1_LSTM_previs%C3%A3o_com_DJI_e_avalia%C3%A7%C3%A3o_percentual_de_acertos_pronta.ipynb\" target=\"_parent\"><img src=\"https://colab.research.google.com/assets/colab-badge.svg\" alt=\"Open In Colab\"/></a>"
      ]
    },
    {
      "cell_type": "code",
      "metadata": {
        "colab": {
          "base_uri": "https://localhost:8080/"
        },
        "id": "7-ix2amZ6wyM",
        "outputId": "25279711-f493-494a-bae6-51d2e3644b7a"
      },
      "source": [
        "from IPython.core.debugger import set_trace\n",
        "import os\n",
        "import matplotlib.pyplot as plt\n",
        "import time\n",
        "import pandas as pd\n",
        "import numpy as np\n",
        "!pip install --upgrade ta\n",
        "\n",
        "from ta.utils import dropna\n",
        "\n",
        "plt.style.use(style=\"seaborn\")\n",
        "%matplotlib inline"
      ],
      "execution_count": 1,
      "outputs": [
        {
          "output_type": "stream",
          "text": [
            "Collecting ta\n",
            "  Downloading https://files.pythonhosted.org/packages/a9/22/a355ecf2d67da8150332d22ef65c3a1f79109528279bf5d40735b6f2bd72/ta-0.7.0.tar.gz\n",
            "Requirement already satisfied, skipping upgrade: numpy in /usr/local/lib/python3.6/dist-packages (from ta) (1.19.5)\n",
            "Requirement already satisfied, skipping upgrade: pandas in /usr/local/lib/python3.6/dist-packages (from ta) (1.1.5)\n",
            "Requirement already satisfied, skipping upgrade: python-dateutil>=2.7.3 in /usr/local/lib/python3.6/dist-packages (from pandas->ta) (2.8.1)\n",
            "Requirement already satisfied, skipping upgrade: pytz>=2017.2 in /usr/local/lib/python3.6/dist-packages (from pandas->ta) (2018.9)\n",
            "Requirement already satisfied, skipping upgrade: six>=1.5 in /usr/local/lib/python3.6/dist-packages (from python-dateutil>=2.7.3->pandas->ta) (1.15.0)\n",
            "Building wheels for collected packages: ta\n",
            "  Building wheel for ta (setup.py) ... \u001b[?25l\u001b[?25hdone\n",
            "  Created wheel for ta: filename=ta-0.7.0-cp36-none-any.whl size=28718 sha256=d1dd723e029b957e3f890334af2dafb991c184fffeb2fe49fb80a46e57fb6722\n",
            "  Stored in directory: /root/.cache/pip/wheels/dd/88/30/de9553fb54a474eb7480b937cdbb140bdda613d29cf4da7994\n",
            "Successfully built ta\n",
            "Installing collected packages: ta\n",
            "Successfully installed ta-0.7.0\n"
          ],
          "name": "stdout"
        }
      ]
    },
    {
      "cell_type": "code",
      "metadata": {
        "colab": {
          "base_uri": "https://localhost:8080/"
        },
        "id": "niC5O7h063bp",
        "outputId": "f2b850c7-cf5a-4efb-b990-49f238e20777"
      },
      "source": [
        "# Importando Bibliotecas para extração de dados do Yhoo Finance\r\n",
        "!pip install yfinance --upgrade --no-cache-dir\r\n",
        "import yfinance as yf\r\n",
        "import datetime as dt\r\n",
        "from pandas_datareader import data as pdr\r\n",
        "yf.pdr_override()"
      ],
      "execution_count": 2,
      "outputs": [
        {
          "output_type": "stream",
          "text": [
            "Collecting yfinance\n",
            "  Downloading https://files.pythonhosted.org/packages/7a/e8/b9d7104d3a4bf39924799067592d9e59119fcfc900a425a12e80a3123ec8/yfinance-0.1.55.tar.gz\n",
            "Requirement already satisfied, skipping upgrade: pandas>=0.24 in /usr/local/lib/python3.6/dist-packages (from yfinance) (1.1.5)\n",
            "Requirement already satisfied, skipping upgrade: numpy>=1.15 in /usr/local/lib/python3.6/dist-packages (from yfinance) (1.19.5)\n",
            "Requirement already satisfied, skipping upgrade: requests>=2.20 in /usr/local/lib/python3.6/dist-packages (from yfinance) (2.23.0)\n",
            "Requirement already satisfied, skipping upgrade: multitasking>=0.0.7 in /usr/local/lib/python3.6/dist-packages (from yfinance) (0.0.9)\n",
            "Collecting lxml>=4.5.1\n",
            "\u001b[?25l  Downloading https://files.pythonhosted.org/packages/bd/78/56a7c88a57d0d14945472535d0df9fb4bbad7d34ede658ec7961635c790e/lxml-4.6.2-cp36-cp36m-manylinux1_x86_64.whl (5.5MB)\n",
            "\u001b[K     |████████████████████████████████| 5.5MB 11.7MB/s \n",
            "\u001b[?25hRequirement already satisfied, skipping upgrade: pytz>=2017.2 in /usr/local/lib/python3.6/dist-packages (from pandas>=0.24->yfinance) (2018.9)\n",
            "Requirement already satisfied, skipping upgrade: python-dateutil>=2.7.3 in /usr/local/lib/python3.6/dist-packages (from pandas>=0.24->yfinance) (2.8.1)\n",
            "Requirement already satisfied, skipping upgrade: idna<3,>=2.5 in /usr/local/lib/python3.6/dist-packages (from requests>=2.20->yfinance) (2.10)\n",
            "Requirement already satisfied, skipping upgrade: chardet<4,>=3.0.2 in /usr/local/lib/python3.6/dist-packages (from requests>=2.20->yfinance) (3.0.4)\n",
            "Requirement already satisfied, skipping upgrade: certifi>=2017.4.17 in /usr/local/lib/python3.6/dist-packages (from requests>=2.20->yfinance) (2020.12.5)\n",
            "Requirement already satisfied, skipping upgrade: urllib3!=1.25.0,!=1.25.1,<1.26,>=1.21.1 in /usr/local/lib/python3.6/dist-packages (from requests>=2.20->yfinance) (1.24.3)\n",
            "Requirement already satisfied, skipping upgrade: six>=1.5 in /usr/local/lib/python3.6/dist-packages (from python-dateutil>=2.7.3->pandas>=0.24->yfinance) (1.15.0)\n",
            "Building wheels for collected packages: yfinance\n",
            "  Building wheel for yfinance (setup.py) ... \u001b[?25l\u001b[?25hdone\n",
            "  Created wheel for yfinance: filename=yfinance-0.1.55-py2.py3-none-any.whl size=22616 sha256=5624babd4cdb5115e36e647f1cfee74b562d1ec49ac82d9c0a5eee11853ca039\n",
            "  Stored in directory: /tmp/pip-ephem-wheel-cache-n6xy5haj/wheels/04/98/cc/2702a4242d60bdc14f48b4557c427ded1fe92aedf257d4565c\n",
            "Successfully built yfinance\n",
            "Installing collected packages: lxml, yfinance\n",
            "  Found existing installation: lxml 4.2.6\n",
            "    Uninstalling lxml-4.2.6:\n",
            "      Successfully uninstalled lxml-4.2.6\n",
            "Successfully installed lxml-4.6.2 yfinance-0.1.55\n"
          ],
          "name": "stdout"
        }
      ]
    },
    {
      "cell_type": "code",
      "metadata": {
        "colab": {
          "base_uri": "https://localhost:8080/"
        },
        "id": "odLjp4iJ7N8y",
        "outputId": "ead10f38-49a9-41fe-9579-0ebe9a409191"
      },
      "source": [
        "#Definindo dados da importação do banco de dados:\r\n",
        "\r\n",
        "#Escolha a ação\r\n",
        "stock= \"^DJI\"\r\n",
        "\r\n",
        "#Escolha o inicio do período\r\n",
        "startyear=1994\r\n",
        "startmonth=1\r\n",
        "startday=1\r\n",
        "\r\n",
        "start=dt.datetime(startyear,startmonth,startday)\r\n",
        "\r\n",
        "#Escolha o final do período\r\n",
        "endyear = 2018\r\n",
        "endmonth = 12\r\n",
        "endday = 20\r\n",
        "\r\n",
        "now=dt.datetime(endyear,endmonth,endday)\r\n",
        "\r\n",
        "#Rascunho - Código para a escolha dos últimos dados\r\n",
        "#now=dt.datetime.now()\r\n",
        "\r\n",
        "df=pdr.get_data_yahoo(stock,start,now)\r\n",
        "#Dado semanais\r\n",
        "#df=pdr.get_data_yahoo(stock,start,now, interval='1wk')"
      ],
      "execution_count": 3,
      "outputs": [
        {
          "output_type": "stream",
          "text": [
            "\r[*********************100%***********************]  1 of 1 completed\n"
          ],
          "name": "stdout"
        }
      ]
    },
    {
      "cell_type": "code",
      "metadata": {
        "colab": {
          "base_uri": "https://localhost:8080/"
        },
        "id": "Uk1bbHgT6wyR",
        "outputId": "1ace6789-141c-4146-baf7-f9ca33628e5d"
      },
      "source": [
        "df.info()"
      ],
      "execution_count": 4,
      "outputs": [
        {
          "output_type": "stream",
          "text": [
            "<class 'pandas.core.frame.DataFrame'>\n",
            "DatetimeIndex: 6287 entries, 1994-01-03 to 2018-12-19\n",
            "Data columns (total 6 columns):\n",
            " #   Column     Non-Null Count  Dtype  \n",
            "---  ------     --------------  -----  \n",
            " 0   Open       6287 non-null   float64\n",
            " 1   High       6287 non-null   float64\n",
            " 2   Low        6287 non-null   float64\n",
            " 3   Close      6287 non-null   float64\n",
            " 4   Adj Close  6287 non-null   float64\n",
            " 5   Volume     6287 non-null   int64  \n",
            "dtypes: float64(5), int64(1)\n",
            "memory usage: 343.8 KB\n"
          ],
          "name": "stdout"
        }
      ]
    },
    {
      "cell_type": "markdown",
      "metadata": {
        "id": "iJ2vBO4e6wyT"
      },
      "source": [
        "#A única variável a ser utilizada no momento é \"Close\"\r\n",
        "\r\n",
        "\r\n"
      ]
    },
    {
      "cell_type": "code",
      "metadata": {
        "id": "Kc8HHte_6wyT"
      },
      "source": [
        "df = df[[\"Close\"]]"
      ],
      "execution_count": 5,
      "outputs": []
    },
    {
      "cell_type": "code",
      "metadata": {
        "colab": {
          "base_uri": "https://localhost:8080/",
          "height": 282
        },
        "id": "HzMLDFqP6wyV",
        "outputId": "a23b61a2-5ec3-4460-9c18-a4ddd530da4e"
      },
      "source": [
        "df.describe()"
      ],
      "execution_count": 6,
      "outputs": [
        {
          "output_type": "execute_result",
          "data": {
            "text/html": [
              "<div>\n",
              "<style scoped>\n",
              "    .dataframe tbody tr th:only-of-type {\n",
              "        vertical-align: middle;\n",
              "    }\n",
              "\n",
              "    .dataframe tbody tr th {\n",
              "        vertical-align: top;\n",
              "    }\n",
              "\n",
              "    .dataframe thead th {\n",
              "        text-align: right;\n",
              "    }\n",
              "</style>\n",
              "<table border=\"1\" class=\"dataframe\">\n",
              "  <thead>\n",
              "    <tr style=\"text-align: right;\">\n",
              "      <th></th>\n",
              "      <th>Close</th>\n",
              "    </tr>\n",
              "  </thead>\n",
              "  <tbody>\n",
              "    <tr>\n",
              "      <th>count</th>\n",
              "      <td>6287.000000</td>\n",
              "    </tr>\n",
              "    <tr>\n",
              "      <th>mean</th>\n",
              "      <td>11782.819948</td>\n",
              "    </tr>\n",
              "    <tr>\n",
              "      <th>std</th>\n",
              "      <td>4941.041266</td>\n",
              "    </tr>\n",
              "    <tr>\n",
              "      <th>min</th>\n",
              "      <td>3593.350098</td>\n",
              "    </tr>\n",
              "    <tr>\n",
              "      <th>25%</th>\n",
              "      <td>8899.455078</td>\n",
              "    </tr>\n",
              "    <tr>\n",
              "      <th>50%</th>\n",
              "      <td>10727.190430</td>\n",
              "    </tr>\n",
              "    <tr>\n",
              "      <th>75%</th>\n",
              "      <td>13543.140137</td>\n",
              "    </tr>\n",
              "    <tr>\n",
              "      <th>max</th>\n",
              "      <td>26828.390625</td>\n",
              "    </tr>\n",
              "  </tbody>\n",
              "</table>\n",
              "</div>"
            ],
            "text/plain": [
              "              Close\n",
              "count   6287.000000\n",
              "mean   11782.819948\n",
              "std     4941.041266\n",
              "min     3593.350098\n",
              "25%     8899.455078\n",
              "50%    10727.190430\n",
              "75%    13543.140137\n",
              "max    26828.390625"
            ]
          },
          "metadata": {
            "tags": []
          },
          "execution_count": 6
        }
      ]
    },
    {
      "cell_type": "code",
      "metadata": {
        "colab": {
          "base_uri": "https://localhost:8080/",
          "height": 374
        },
        "id": "h4YYM4GE6wyV",
        "outputId": "8cb98f14-2ada-4f53-b036-84a9b9454d45"
      },
      "source": [
        "plt.figure(1, figsize=(16, 6))\n",
        "_ = plt.plot(df.Close)"
      ],
      "execution_count": 7,
      "outputs": [
        {
          "output_type": "display_data",
          "data": {
            "image/png": "[encoded data removed]",
            "text/plain": [
              "<Figure size 1152x432 with 1 Axes>"
            ]
          },
          "metadata": {
            "tags": [],
            "needs_background": "light"
          }
        }
      ]
    },
    {
      "cell_type": "markdown",
      "metadata": {
        "id": "2ijkSDR_6wyW"
      },
      "source": [
        "Calcule a variação percentual.\n",
        "\n",
        "A razão para usar pct_change em vez dos preços de fechamento é o benefício da normalização, pois podemos medir todas as variáveis ​​em uma métrica comparável. Além disso, os retornos têm propriedades estatísticas mais gerenciáveis ​​do que os preços, como estacionariedade, pois na maioria dos casos não temos preços estacionários, mas podemos ter retornos estacionários.\n",
        "\n",
        "Uma série temporal estacionária é aquela em que as propriedades estatísticas, como média, variância, correlação, etc., são constantes ao longo do tempo. Para mais detalhes sobre estacionariedade: https://en.wikipedia.org/wiki/Stationary_process"
      ]
    },
    {
      "cell_type": "code",
      "metadata": {
        "colab": {
          "base_uri": "https://localhost:8080/"
        },
        "id": "R-VufPky6wyW",
        "outputId": "b442e731-78ac-42d2-9075-8c0b7c707080"
      },
      "source": [
        "df[\"returns\"] = df.Close.pct_change()"
      ],
      "execution_count": 8,
      "outputs": [
        {
          "output_type": "stream",
          "text": [
            "/usr/local/lib/python3.6/dist-packages/ipykernel_launcher.py:1: SettingWithCopyWarning: \n",
            "A value is trying to be set on a copy of a slice from a DataFrame.\n",
            "Try using .loc[row_indexer,col_indexer] = value instead\n",
            "\n",
            "See the caveats in the documentation: https://pandas.pydata.org/pandas-docs/stable/user_guide/indexing.html#returning-a-view-versus-a-copy\n",
            "  \"\"\"Entry point for launching an IPython kernel.\n"
          ],
          "name": "stderr"
        }
      ]
    },
    {
      "cell_type": "code",
      "metadata": {
        "colab": {
          "base_uri": "https://localhost:8080/",
          "height": 223
        },
        "id": "4lPxNpCh6wyX",
        "outputId": "ce0a7e4b-5f0f-41ea-bed4-f9b88c737b4b"
      },
      "source": [
        "df.head(5)"
      ],
      "execution_count": 9,
      "outputs": [
        {
          "output_type": "execute_result",
          "data": {
            "text/html": [
              "<div>\n",
              "<style scoped>\n",
              "    .dataframe tbody tr th:only-of-type {\n",
              "        vertical-align: middle;\n",
              "    }\n",
              "\n",
              "    .dataframe tbody tr th {\n",
              "        vertical-align: top;\n",
              "    }\n",
              "\n",
              "    .dataframe thead th {\n",
              "        text-align: right;\n",
              "    }\n",
              "</style>\n",
              "<table border=\"1\" class=\"dataframe\">\n",
              "  <thead>\n",
              "    <tr style=\"text-align: right;\">\n",
              "      <th></th>\n",
              "      <th>Close</th>\n",
              "      <th>returns</th>\n",
              "    </tr>\n",
              "    <tr>\n",
              "      <th>Date</th>\n",
              "      <th></th>\n",
              "      <th></th>\n",
              "    </tr>\n",
              "  </thead>\n",
              "  <tbody>\n",
              "    <tr>\n",
              "      <th>1994-01-03</th>\n",
              "      <td>3756.600098</td>\n",
              "      <td>NaN</td>\n",
              "    </tr>\n",
              "    <tr>\n",
              "      <th>1994-01-04</th>\n",
              "      <td>3783.899902</td>\n",
              "      <td>0.007267</td>\n",
              "    </tr>\n",
              "    <tr>\n",
              "      <th>1994-01-05</th>\n",
              "      <td>3798.820068</td>\n",
              "      <td>0.003943</td>\n",
              "    </tr>\n",
              "    <tr>\n",
              "      <th>1994-01-06</th>\n",
              "      <td>3803.879883</td>\n",
              "      <td>0.001332</td>\n",
              "    </tr>\n",
              "    <tr>\n",
              "      <th>1994-01-07</th>\n",
              "      <td>3820.770020</td>\n",
              "      <td>0.004440</td>\n",
              "    </tr>\n",
              "  </tbody>\n",
              "</table>\n",
              "</div>"
            ],
            "text/plain": [
              "                  Close   returns\n",
              "Date                             \n",
              "1994-01-03  3756.600098       NaN\n",
              "1994-01-04  3783.899902  0.007267\n",
              "1994-01-05  3798.820068  0.003943\n",
              "1994-01-06  3803.879883  0.001332\n",
              "1994-01-07  3820.770020  0.004440"
            ]
          },
          "metadata": {
            "tags": []
          },
          "execution_count": 9
        }
      ]
    },
    {
      "cell_type": "code",
      "metadata": {
        "colab": {
          "base_uri": "https://localhost:8080/"
        },
        "id": "B62jkltW6wyX",
        "outputId": "c03a41a6-dcb5-4c56-8adb-67cae35273f5"
      },
      "source": [
        "134.75 / 132.89 - 1"
      ],
      "execution_count": 10,
      "outputs": [
        {
          "output_type": "execute_result",
          "data": {
            "text/plain": [
              "0.013996538490480992"
            ]
          },
          "metadata": {
            "tags": []
          },
          "execution_count": 10
        }
      ]
    },
    {
      "cell_type": "markdown",
      "metadata": {
        "id": "T57VX5kb6wyX"
      },
      "source": [
        "*Calculando* o log returns.\n",
        "\n",
        "Por que usar Log Returns: https://quantivity.wordpress.com/2011/02/21/why-log-returns/"
      ]
    },
    {
      "cell_type": "code",
      "metadata": {
        "colab": {
          "base_uri": "https://localhost:8080/"
        },
        "id": "QswdCHzu6wyY",
        "outputId": "53ea5ab6-957f-4dc5-99ca-7aa5065d177d"
      },
      "source": [
        "df[\"log_returns\"] = np.log(1 + df[\"returns\"])"
      ],
      "execution_count": 11,
      "outputs": [
        {
          "output_type": "stream",
          "text": [
            "/usr/local/lib/python3.6/dist-packages/ipykernel_launcher.py:1: SettingWithCopyWarning: \n",
            "A value is trying to be set on a copy of a slice from a DataFrame.\n",
            "Try using .loc[row_indexer,col_indexer] = value instead\n",
            "\n",
            "See the caveats in the documentation: https://pandas.pydata.org/pandas-docs/stable/user_guide/indexing.html#returning-a-view-versus-a-copy\n",
            "  \"\"\"Entry point for launching an IPython kernel.\n"
          ],
          "name": "stderr"
        }
      ]
    },
    {
      "cell_type": "code",
      "metadata": {
        "colab": {
          "base_uri": "https://localhost:8080/",
          "height": 223
        },
        "id": "1gew3ji26wyY",
        "outputId": "9b8edca8-274e-4bf9-cb93-4b8070c4fc46"
      },
      "source": [
        "df.head(5)"
      ],
      "execution_count": 12,
      "outputs": [
        {
          "output_type": "execute_result",
          "data": {
            "text/html": [
              "<div>\n",
              "<style scoped>\n",
              "    .dataframe tbody tr th:only-of-type {\n",
              "        vertical-align: middle;\n",
              "    }\n",
              "\n",
              "    .dataframe tbody tr th {\n",
              "        vertical-align: top;\n",
              "    }\n",
              "\n",
              "    .dataframe thead th {\n",
              "        text-align: right;\n",
              "    }\n",
              "</style>\n",
              "<table border=\"1\" class=\"dataframe\">\n",
              "  <thead>\n",
              "    <tr style=\"text-align: right;\">\n",
              "      <th></th>\n",
              "      <th>Close</th>\n",
              "      <th>returns</th>\n",
              "      <th>log_returns</th>\n",
              "    </tr>\n",
              "    <tr>\n",
              "      <th>Date</th>\n",
              "      <th></th>\n",
              "      <th></th>\n",
              "      <th></th>\n",
              "    </tr>\n",
              "  </thead>\n",
              "  <tbody>\n",
              "    <tr>\n",
              "      <th>1994-01-03</th>\n",
              "      <td>3756.600098</td>\n",
              "      <td>NaN</td>\n",
              "      <td>NaN</td>\n",
              "    </tr>\n",
              "    <tr>\n",
              "      <th>1994-01-04</th>\n",
              "      <td>3783.899902</td>\n",
              "      <td>0.007267</td>\n",
              "      <td>0.007241</td>\n",
              "    </tr>\n",
              "    <tr>\n",
              "      <th>1994-01-05</th>\n",
              "      <td>3798.820068</td>\n",
              "      <td>0.003943</td>\n",
              "      <td>0.003935</td>\n",
              "    </tr>\n",
              "    <tr>\n",
              "      <th>1994-01-06</th>\n",
              "      <td>3803.879883</td>\n",
              "      <td>0.001332</td>\n",
              "      <td>0.001331</td>\n",
              "    </tr>\n",
              "    <tr>\n",
              "      <th>1994-01-07</th>\n",
              "      <td>3820.770020</td>\n",
              "      <td>0.004440</td>\n",
              "      <td>0.004430</td>\n",
              "    </tr>\n",
              "  </tbody>\n",
              "</table>\n",
              "</div>"
            ],
            "text/plain": [
              "                  Close   returns  log_returns\n",
              "Date                                          \n",
              "1994-01-03  3756.600098       NaN          NaN\n",
              "1994-01-04  3783.899902  0.007267     0.007241\n",
              "1994-01-05  3798.820068  0.003943     0.003935\n",
              "1994-01-06  3803.879883  0.001332     0.001331\n",
              "1994-01-07  3820.770020  0.004440     0.004430"
            ]
          },
          "metadata": {
            "tags": []
          },
          "execution_count": 12
        }
      ]
    },
    {
      "cell_type": "code",
      "metadata": {
        "colab": {
          "base_uri": "https://localhost:8080/",
          "height": 283
        },
        "id": "hOyqaj7e6wyY",
        "outputId": "90352fbd-7940-4a06-fa0e-3c1a5c78ce23"
      },
      "source": [
        "plt.figure(1, figsize=(16, 4))\n",
        "plt.plot(df.log_returns)"
      ],
      "execution_count": 13,
      "outputs": [
        {
          "output_type": "execute_result",
          "data": {
            "text/plain": [
              "[<matplotlib.lines.Line2D at 0x7f028bef23c8>]"
            ]
          },
          "metadata": {
            "tags": []
          },
          "execution_count": 13
        },
        {
          "output_type": "display_data",
          "data": {
            "image/png": "[encoded data removed]",
            "text/plain": [
              "<Figure size 1152x288 with 1 Axes>"
            ]
          },
          "metadata": {
            "tags": [],
            "needs_background": "light"
          }
        }
      ]
    },
    {
      "cell_type": "code",
      "metadata": {
        "colab": {
          "base_uri": "https://localhost:8080/"
        },
        "id": "uh2v_GbF6wyZ",
        "outputId": "7311c148-e534-40b9-8c47-5907a245c2be"
      },
      "source": [
        "df.dropna(inplace=True)\n",
        "X = df[[\"Close\", \"log_returns\"]].values"
      ],
      "execution_count": 14,
      "outputs": [
        {
          "output_type": "stream",
          "text": [
            "/usr/local/lib/python3.6/dist-packages/ipykernel_launcher.py:1: SettingWithCopyWarning: \n",
            "A value is trying to be set on a copy of a slice from a DataFrame\n",
            "\n",
            "See the caveats in the documentation: https://pandas.pydata.org/pandas-docs/stable/user_guide/indexing.html#returning-a-view-versus-a-copy\n",
            "  \"\"\"Entry point for launching an IPython kernel.\n"
          ],
          "name": "stderr"
        }
      ]
    },
    {
      "cell_type": "code",
      "metadata": {
        "colab": {
          "base_uri": "https://localhost:8080/"
        },
        "id": "LUnU_Uxb6wyZ",
        "outputId": "927ae980-caa2-491a-b18b-86f1ac6d9fd9"
      },
      "source": [
        "X"
      ],
      "execution_count": 15,
      "outputs": [
        {
          "output_type": "execute_result",
          "data": {
            "text/plain": [
              "array([[ 3.78389990e+03,  7.24087898e-03],\n",
              "       [ 3.79882007e+03,  3.93531222e-03],\n",
              "       [ 3.80387988e+03,  1.33105745e-03],\n",
              "       ...,\n",
              "       [ 2.35929805e+04, -2.12837624e-02],\n",
              "       [ 2.36756406e+04,  3.49746782e-03],\n",
              "       [ 2.33236602e+04, -1.49783951e-02]])"
            ]
          },
          "metadata": {
            "tags": []
          },
          "execution_count": 15
        }
      ]
    },
    {
      "cell_type": "code",
      "metadata": {
        "id": "vmoqn6Ln6wyZ"
      },
      "source": [
        "from sklearn.preprocessing import MinMaxScaler"
      ],
      "execution_count": 16,
      "outputs": []
    },
    {
      "cell_type": "code",
      "metadata": {
        "id": "qm8pGKIx6wya"
      },
      "source": [
        "scaler = MinMaxScaler(feature_range=(0, 1)).fit(X)\n",
        "X_scaled = scaler.transform(X)"
      ],
      "execution_count": 17,
      "outputs": []
    },
    {
      "cell_type": "code",
      "metadata": {
        "colab": {
          "base_uri": "https://localhost:8080/"
        },
        "id": "zY73G9yD6wya",
        "outputId": "424546bf-6c38-4790-eb2f-06b0154e721b"
      },
      "source": [
        "X_scaled[:5]"
      ],
      "execution_count": 18,
      "outputs": [
        {
          "output_type": "execute_result",
          "data": {
            "text/plain": [
              "array([[0.00820097, 0.47702541],\n",
              "       [0.00884311, 0.45935695],\n",
              "       [0.00906087, 0.44543705],\n",
              "       [0.0097878 , 0.46200328],\n",
              "       [0.01171334, 0.50054781]])"
            ]
          },
          "metadata": {
            "tags": []
          },
          "execution_count": 18
        }
      ]
    },
    {
      "cell_type": "code",
      "metadata": {
        "id": "hH9mT5BM6wyb"
      },
      "source": [
        "y = [x[0] for x in X_scaled]"
      ],
      "execution_count": 19,
      "outputs": []
    },
    {
      "cell_type": "code",
      "metadata": {
        "colab": {
          "base_uri": "https://localhost:8080/"
        },
        "id": "xwtS7b2p6wyb",
        "outputId": "38728841-bdf1-4be8-b213-8ea184831ae4"
      },
      "source": [
        "y[:5]"
      ],
      "execution_count": 20,
      "outputs": [
        {
          "output_type": "execute_result",
          "data": {
            "text/plain": [
              "[0.008200967175557738,\n",
              " 0.008843107911144843,\n",
              " 0.009060874454188766,\n",
              " 0.009787799664363162,\n",
              " 0.011713339246776366]"
            ]
          },
          "metadata": {
            "tags": []
          },
          "execution_count": 20
        }
      ]
    },
    {
      "cell_type": "markdown",
      "metadata": {
        "id": "dL_36GWS6wyb"
      },
      "source": [
        "#### Train test split"
      ]
    },
    {
      "cell_type": "code",
      "metadata": {
        "colab": {
          "base_uri": "https://localhost:8080/"
        },
        "id": "GFwKLlTy6wyb",
        "outputId": "05e19614-c09b-4ff4-a530-ab2dcf989452"
      },
      "source": [
        "split = int(len(X_scaled) * 0.8)\n",
        "print(split)"
      ],
      "execution_count": 21,
      "outputs": [
        {
          "output_type": "stream",
          "text": [
            "5028\n"
          ],
          "name": "stdout"
        }
      ]
    },
    {
      "cell_type": "code",
      "metadata": {
        "id": "ppQ8844F6wyc"
      },
      "source": [
        "X_train = X_scaled[:split]\n",
        "X_test = X_scaled[split : len(X_scaled)]\n",
        "y_train = y[:split]\n",
        "y_test = y[split : len(y)]"
      ],
      "execution_count": 22,
      "outputs": []
    },
    {
      "cell_type": "markdown",
      "metadata": {
        "id": "gB4fqFfI91hf"
      },
      "source": [
        "#Garantindo que o número de linhas de X e Y são iguais para evitar erros"
      ]
    },
    {
      "cell_type": "code",
      "metadata": {
        "id": "N0COgzjc6wyc"
      },
      "source": [
        "assert len(X_train) == len(y_train)\n",
        "assert len(X_test) == len(y_test)"
      ],
      "execution_count": 23,
      "outputs": []
    },
    {
      "cell_type": "markdown",
      "metadata": {
        "id": "hMZ506B06wyd"
      },
      "source": [
        "#### Labeling\n",
        "\n",
        "Queremos prever o preço das ações no futuro. Vamos prever o preço da ação no momento t + 1 em relação ao preço da ação no momento t."
      ]
    },
    {
      "cell_type": "markdown",
      "metadata": {
        "id": "L-j2urRK6wyd"
      },
      "source": [
        "Como vamos usar uma arquitetura LSTM, sabemos que ela tem memória e que é mantida configurando o intervalo de tempo, basicamente quantos passos no passado queremos que o LSTM use.\n",
        "\n",
        "O intervalo de tempo refere-se a quantos passos no tempo queremos que o algoritmo de retropropagação use ao calcular gradientes para atualizações de peso durante o treinamento.\n",
        "\n",
        "Portanto, podemos usar um método para criar o timestep e a variável de saída, ot + 1."
      ]
    },
    {
      "cell_type": "code",
      "metadata": {
        "id": "W1Whwf-H6wyd"
      },
      "source": [
        "#Criando um array contendo dados de \"n\" dias a serem usados para a previsão. O valor de n é a definição de quantos \"timesteps\" a LSTM vai utilizar. \n",
        "#Nesse mesmo método já acertamos a variável y para o dia seguinte, pois como queremos prever o dia seguinte, essa variável deve ser deslocada em um dia.\n",
        "n = 40\n",
        "Xtrain = []\n",
        "ytrain = []\n",
        "Xtest = []\n",
        "ytest = []\n",
        "for i in range(n, len(X_train)):\n",
        "    Xtrain.append(X_train[i - n : i, : X_train.shape[1]])\n",
        "    ytrain.append(y_train[i])  # prevendo o próximo\n",
        "for i in range(n, len(X_test)):\n",
        "    Xtest.append(X_test[i - n : i, : X_test.shape[1]])\n",
        "    ytest.append(y_test[i])  # prevendo o próximo"
      ],
      "execution_count": 24,
      "outputs": []
    },
    {
      "cell_type": "code",
      "metadata": {
        "colab": {
          "base_uri": "https://localhost:8080/",
          "height": 223
        },
        "id": "o8bv_YpB6wye",
        "outputId": "94f9ad56-c72c-4be2-bd03-0a3cc6191196"
      },
      "source": [
        "df.head(5)"
      ],
      "execution_count": 25,
      "outputs": [
        {
          "output_type": "execute_result",
          "data": {
            "text/html": [
              "<div>\n",
              "<style scoped>\n",
              "    .dataframe tbody tr th:only-of-type {\n",
              "        vertical-align: middle;\n",
              "    }\n",
              "\n",
              "    .dataframe tbody tr th {\n",
              "        vertical-align: top;\n",
              "    }\n",
              "\n",
              "    .dataframe thead th {\n",
              "        text-align: right;\n",
              "    }\n",
              "</style>\n",
              "<table border=\"1\" class=\"dataframe\">\n",
              "  <thead>\n",
              "    <tr style=\"text-align: right;\">\n",
              "      <th></th>\n",
              "      <th>Close</th>\n",
              "      <th>returns</th>\n",
              "      <th>log_returns</th>\n",
              "    </tr>\n",
              "    <tr>\n",
              "      <th>Date</th>\n",
              "      <th></th>\n",
              "      <th></th>\n",
              "      <th></th>\n",
              "    </tr>\n",
              "  </thead>\n",
              "  <tbody>\n",
              "    <tr>\n",
              "      <th>1994-01-04</th>\n",
              "      <td>3783.899902</td>\n",
              "      <td>0.007267</td>\n",
              "      <td>0.007241</td>\n",
              "    </tr>\n",
              "    <tr>\n",
              "      <th>1994-01-05</th>\n",
              "      <td>3798.820068</td>\n",
              "      <td>0.003943</td>\n",
              "      <td>0.003935</td>\n",
              "    </tr>\n",
              "    <tr>\n",
              "      <th>1994-01-06</th>\n",
              "      <td>3803.879883</td>\n",
              "      <td>0.001332</td>\n",
              "      <td>0.001331</td>\n",
              "    </tr>\n",
              "    <tr>\n",
              "      <th>1994-01-07</th>\n",
              "      <td>3820.770020</td>\n",
              "      <td>0.004440</td>\n",
              "      <td>0.004430</td>\n",
              "    </tr>\n",
              "    <tr>\n",
              "      <th>1994-01-10</th>\n",
              "      <td>3865.510010</td>\n",
              "      <td>0.011710</td>\n",
              "      <td>0.011642</td>\n",
              "    </tr>\n",
              "  </tbody>\n",
              "</table>\n",
              "</div>"
            ],
            "text/plain": [
              "                  Close   returns  log_returns\n",
              "Date                                          \n",
              "1994-01-04  3783.899902  0.007267     0.007241\n",
              "1994-01-05  3798.820068  0.003943     0.003935\n",
              "1994-01-06  3803.879883  0.001332     0.001331\n",
              "1994-01-07  3820.770020  0.004440     0.004430\n",
              "1994-01-10  3865.510010  0.011710     0.011642"
            ]
          },
          "metadata": {
            "tags": []
          },
          "execution_count": 25
        }
      ]
    },
    {
      "cell_type": "code",
      "metadata": {
        "colab": {
          "base_uri": "https://localhost:8080/"
        },
        "id": "Im9DAxf76wye",
        "outputId": "590ca820-02b5-461e-f416-69753f2517ad"
      },
      "source": [
        "Xtrain[0]"
      ],
      "execution_count": 26,
      "outputs": [
        {
          "output_type": "execute_result",
          "data": {
            "text/plain": [
              "array([[0.00820097, 0.47702541],\n",
              "       [0.00884311, 0.45935695],\n",
              "       [0.00906087, 0.44543705],\n",
              "       [0.0097878 , 0.46200328],\n",
              "       [0.01171334, 0.50054781],\n",
              "       [0.01105916, 0.4172632 ],\n",
              "       [0.01098684, 0.43598951],\n",
              "       [0.01072001, 0.4297049 ],\n",
              "       [0.01178607, 0.47266853],\n",
              "       [0.01191906, 0.44259174],\n",
              "       [0.01191906, 0.43832247],\n",
              "       [0.01252505, 0.45773246],\n",
              "       [0.0128517 , 0.44875623],\n",
              "       [0.01382093, 0.46916142],\n",
              "       [0.0137482 , 0.43601442],\n",
              "       [0.01299718, 0.41443168],\n",
              "       [0.01354204, 0.45566583],\n",
              "       [0.01432965, 0.46329344],\n",
              "       [0.01515297, 0.46430166],\n",
              "       [0.01657023, 0.48274939],\n",
              "       [0.01595263, 0.41900777],\n",
              "       [0.01644886, 0.45384696],\n",
              "       [0.01610971, 0.42771723],\n",
              "       [0.01196769, 0.30707378],\n",
              "       [0.01346974, 0.48629133],\n",
              "       [0.01345726, 0.43792559],\n",
              "       [0.01457152, 0.47363363],\n",
              "       [0.01299718, 0.388363  ],\n",
              "       [0.01297308, 0.43755392],\n",
              "       [0.01337247, 0.45104291],\n",
              "       [0.01441443, 0.47136605],\n",
              "       [0.01480178, 0.45055445],\n",
              "       [0.01417212, 0.41842427],\n",
              "       [0.01265803, 0.39016939],\n",
              "       [0.01369956, 0.47149304],\n",
              "       [0.01283965, 0.410951  ],\n",
              "       [0.01061112, 0.36672738],\n",
              "       [0.01056292, 0.4367634 ],\n",
              "       [0.01027198, 0.42890163],\n",
              "       [0.00929113, 0.40643907]])"
            ]
          },
          "metadata": {
            "tags": []
          },
          "execution_count": 26
        }
      ]
    },
    {
      "cell_type": "code",
      "metadata": {
        "colab": {
          "base_uri": "https://localhost:8080/"
        },
        "id": "8eK9LU5M6wye",
        "outputId": "b9ed608f-c883-4e50-826d-c3562675de40"
      },
      "source": [
        "ytrain[0]"
      ],
      "execution_count": 27,
      "outputs": [
        {
          "output_type": "execute_result",
          "data": {
            "text/plain": [
              "0.01025993013860163"
            ]
          },
          "metadata": {
            "tags": []
          },
          "execution_count": 27
        }
      ]
    },
    {
      "cell_type": "code",
      "metadata": {
        "id": "ubyyKauw6wye"
      },
      "source": [
        "val = np.array(ytrain[0])\n",
        "val = np.c_[val, np.zeros(val.shape)]"
      ],
      "execution_count": 28,
      "outputs": []
    },
    {
      "cell_type": "markdown",
      "metadata": {
        "id": "k6jL6blU-deg"
      },
      "source": [
        "#Confirmando que Y[0] é o quarto valor da coluna Close, ou seja, o primeiro dia a ser previsto utilizando os dados dos 3 primeiros dias da base"
      ]
    },
    {
      "cell_type": "code",
      "metadata": {
        "colab": {
          "base_uri": "https://localhost:8080/"
        },
        "id": "goUK-2Fv6wyf",
        "outputId": "5134b539-5a98-4c47-f8cf-8a9166382cf1"
      },
      "source": [
        "scaler.inverse_transform(val)"
      ],
      "execution_count": 29,
      "outputs": [
        {
          "output_type": "execute_result",
          "data": {
            "text/plain": [
              "array([[ 3.83173999e+03, -8.20051358e-02]])"
            ]
          },
          "metadata": {
            "tags": []
          },
          "execution_count": 29
        }
      ]
    },
    {
      "cell_type": "markdown",
      "metadata": {
        "id": "QJR--_hX6wyf"
      },
      "source": [
        "#Em uma rede LSTM, as entradas para cada camada precisam conter as seguintes informações:\n",
        "\n",
        "\n",
        "\n",
        "*   O número de observações\n",
        "*   O número de passos (Timesteps)\n",
        "*   Quantas informações existem em cada passo\n",
        "\n",
        "Precisamos adicionar uma dimensão temporal para esse tipo de rede neural"
      ]
    },
    {
      "cell_type": "code",
      "metadata": {
        "id": "QbwlNQ2k6wyf"
      },
      "source": [
        "Xtrain, ytrain = (np.array(Xtrain), np.array(ytrain))\n",
        "Xtrain = np.reshape(Xtrain, (Xtrain.shape[0], Xtrain.shape[1], Xtrain.shape[2]))\n",
        "\n",
        "Xtest, ytest = (np.array(Xtest), np.array(ytest))\n",
        "Xtest = np.reshape(Xtest, (Xtest.shape[0], Xtest.shape[1], Xtest.shape[2]))"
      ],
      "execution_count": 30,
      "outputs": []
    },
    {
      "cell_type": "code",
      "metadata": {
        "scrolled": true,
        "colab": {
          "base_uri": "https://localhost:8080/"
        },
        "id": "Ql-XY5rk6wyg",
        "outputId": "9efce393-dd67-4fe4-843a-2a37c1732b5f"
      },
      "source": [
        "print(Xtrain.shape)\n",
        "print(ytrain.shape)\n",
        "print(\"---\")\n",
        "print(Xtest.shape)\n",
        "print(ytest.shape)"
      ],
      "execution_count": 31,
      "outputs": [
        {
          "output_type": "stream",
          "text": [
            "(4988, 40, 2)\n",
            "(4988,)\n",
            "---\n",
            "(1218, 40, 2)\n",
            "(1218,)\n"
          ],
          "name": "stdout"
        }
      ]
    },
    {
      "cell_type": "markdown",
      "metadata": {
        "id": "pGPrYU-U6wyg"
      },
      "source": [
        "#### Modelo LSTM "
      ]
    },
    {
      "cell_type": "code",
      "metadata": {
        "id": "ggLqE_tp6wyg"
      },
      "source": [
        "from keras.models import Sequential\n",
        "from keras.layers import LSTM, Dense"
      ],
      "execution_count": 32,
      "outputs": []
    },
    {
      "cell_type": "code",
      "metadata": {
        "scrolled": true,
        "colab": {
          "base_uri": "https://localhost:8080/"
        },
        "id": "Xv4kFcxg6wyh",
        "outputId": "fc342b39-35f8-4acd-8eb7-491cc0bb2be7"
      },
      "source": [
        "model = Sequential()\n",
        "model.add(LSTM(4, input_shape=(Xtrain.shape[1], Xtrain.shape[2])))\n",
        "model.add(Dense(1))\n",
        "model.compile(loss=\"mean_squared_error\", optimizer=\"adam\")\n",
        "history = model.fit(\n",
        "    Xtrain, ytrain, epochs=500, validation_data=(Xtest, ytest), batch_size=16, verbose=1\n",
        ")"
      ],
      "execution_count": 33,
      "outputs": [
        {
          "output_type": "stream",
          "text": [
            "Epoch 1/500\n",
            "312/312 [==============================] - 6s 12ms/step - loss: 0.0462 - val_loss: 0.0024\n",
            "Epoch 2/500\n",
            "312/312 [==============================] - 3s 10ms/step - loss: 4.6690e-04 - val_loss: 0.0032\n",
            "Epoch 3/500\n",
            "312/312 [==============================] - 3s 10ms/step - loss: 3.2745e-04 - val_loss: 0.0058\n",
            "Epoch 4/500\n",
            "312/312 [==============================] - 3s 10ms/step - loss: 2.4158e-04 - val_loss: 0.0081\n",
            "Epoch 5/500\n",
            "312/312 [==============================] - 3s 10ms/step - loss: 2.0554e-04 - val_loss: 0.0095\n",
            "Epoch 6/500\n",
            "312/312 [==============================] - 3s 10ms/step - loss: 1.6805e-04 - val_loss: 0.0105\n",
            "Epoch 7/500\n",
            "312/312 [==============================] - 3s 10ms/step - loss: 1.6556e-04 - val_loss: 0.0098\n",
            "Epoch 8/500\n",
            "312/312 [==============================] - 3s 10ms/step - loss: 1.3374e-04 - val_loss: 0.0094\n",
            "Epoch 9/500\n",
            "312/312 [==============================] - 3s 9ms/step - loss: 1.1374e-04 - val_loss: 0.0068\n",
            "Epoch 10/500\n",
            "312/312 [==============================] - 3s 8ms/step - loss: 9.7724e-05 - val_loss: 0.0071\n",
            "Epoch 11/500\n",
            "312/312 [==============================] - 3s 9ms/step - loss: 7.7195e-05 - val_loss: 0.0064\n",
            "Epoch 12/500\n",
            "312/312 [==============================] - 3s 9ms/step - loss: 7.0796e-05 - val_loss: 0.0060\n",
            "Epoch 13/500\n",
            "312/312 [==============================] - 3s 9ms/step - loss: 5.5215e-05 - val_loss: 0.0050\n",
            "Epoch 14/500\n",
            "312/312 [==============================] - 3s 8ms/step - loss: 4.4650e-05 - val_loss: 0.0050\n",
            "Epoch 15/500\n",
            "312/312 [==============================] - 3s 9ms/step - loss: 3.9195e-05 - val_loss: 0.0040\n",
            "Epoch 16/500\n",
            "312/312 [==============================] - 3s 8ms/step - loss: 4.0284e-05 - val_loss: 0.0043\n",
            "Epoch 17/500\n",
            "312/312 [==============================] - 3s 8ms/step - loss: 3.3900e-05 - val_loss: 0.0036\n",
            "Epoch 18/500\n",
            "312/312 [==============================] - 3s 9ms/step - loss: 3.1879e-05 - val_loss: 0.0034\n",
            "Epoch 19/500\n",
            "312/312 [==============================] - 3s 9ms/step - loss: 3.2222e-05 - val_loss: 0.0034\n",
            "Epoch 20/500\n",
            "312/312 [==============================] - 3s 8ms/step - loss: 3.0464e-05 - val_loss: 0.0031\n",
            "Epoch 21/500\n",
            "312/312 [==============================] - 3s 8ms/step - loss: 3.1420e-05 - val_loss: 0.0028\n",
            "Epoch 22/500\n",
            "312/312 [==============================] - 3s 8ms/step - loss: 3.3045e-05 - val_loss: 0.0033\n",
            "Epoch 23/500\n",
            "312/312 [==============================] - 3s 8ms/step - loss: 3.0924e-05 - val_loss: 0.0028\n",
            "Epoch 24/500\n",
            "312/312 [==============================] - 3s 9ms/step - loss: 2.9409e-05 - val_loss: 0.0026\n",
            "Epoch 25/500\n",
            "312/312 [==============================] - 3s 9ms/step - loss: 2.7705e-05 - val_loss: 0.0026\n",
            "Epoch 26/500\n",
            "312/312 [==============================] - 3s 9ms/step - loss: 3.0044e-05 - val_loss: 0.0028\n",
            "Epoch 27/500\n",
            "312/312 [==============================] - 3s 8ms/step - loss: 3.1061e-05 - val_loss: 0.0027\n",
            "Epoch 28/500\n",
            "312/312 [==============================] - 3s 8ms/step - loss: 2.8869e-05 - val_loss: 0.0023\n",
            "Epoch 29/500\n",
            "312/312 [==============================] - 3s 9ms/step - loss: 2.9513e-05 - val_loss: 0.0024\n",
            "Epoch 30/500\n",
            "312/312 [==============================] - 3s 9ms/step - loss: 2.9572e-05 - val_loss: 0.0022\n",
            "Epoch 31/500\n",
            "312/312 [==============================] - 3s 9ms/step - loss: 3.0286e-05 - val_loss: 0.0027\n",
            "Epoch 32/500\n",
            "312/312 [==============================] - 3s 8ms/step - loss: 3.0988e-05 - val_loss: 0.0018\n",
            "Epoch 33/500\n",
            "312/312 [==============================] - 3s 9ms/step - loss: 3.0338e-05 - val_loss: 0.0018\n",
            "Epoch 34/500\n",
            "312/312 [==============================] - 3s 9ms/step - loss: 2.7073e-05 - val_loss: 0.0022\n",
            "Epoch 35/500\n",
            "312/312 [==============================] - 3s 9ms/step - loss: 2.9488e-05 - val_loss: 0.0024\n",
            "Epoch 36/500\n",
            "312/312 [==============================] - 3s 9ms/step - loss: 3.4501e-05 - val_loss: 0.0018\n",
            "Epoch 37/500\n",
            "312/312 [==============================] - 3s 9ms/step - loss: 3.0086e-05 - val_loss: 0.0020\n",
            "Epoch 38/500\n",
            "312/312 [==============================] - 3s 9ms/step - loss: 2.8426e-05 - val_loss: 0.0022\n",
            "Epoch 39/500\n",
            "312/312 [==============================] - 3s 9ms/step - loss: 3.1024e-05 - val_loss: 0.0017\n",
            "Epoch 40/500\n",
            "312/312 [==============================] - 3s 9ms/step - loss: 2.9642e-05 - val_loss: 0.0015\n",
            "Epoch 41/500\n",
            "312/312 [==============================] - 3s 9ms/step - loss: 3.0970e-05 - val_loss: 0.0018\n",
            "Epoch 42/500\n",
            "312/312 [==============================] - 3s 9ms/step - loss: 2.7575e-05 - val_loss: 0.0017\n",
            "Epoch 43/500\n",
            "312/312 [==============================] - 3s 9ms/step - loss: 2.8607e-05 - val_loss: 0.0015\n",
            "Epoch 44/500\n",
            "312/312 [==============================] - 3s 9ms/step - loss: 3.0998e-05 - val_loss: 0.0013\n",
            "Epoch 45/500\n",
            "312/312 [==============================] - 3s 9ms/step - loss: 2.6669e-05 - val_loss: 0.0014\n",
            "Epoch 46/500\n",
            "312/312 [==============================] - 3s 9ms/step - loss: 2.8213e-05 - val_loss: 0.0014\n",
            "Epoch 47/500\n",
            "312/312 [==============================] - 3s 9ms/step - loss: 2.5718e-05 - val_loss: 0.0013\n",
            "Epoch 48/500\n",
            "312/312 [==============================] - 3s 9ms/step - loss: 2.9025e-05 - val_loss: 0.0013\n",
            "Epoch 49/500\n",
            "312/312 [==============================] - 3s 9ms/step - loss: 2.7435e-05 - val_loss: 0.0013\n",
            "Epoch 50/500\n",
            "312/312 [==============================] - 3s 9ms/step - loss: 2.6475e-05 - val_loss: 0.0013\n",
            "Epoch 51/500\n",
            "312/312 [==============================] - 3s 9ms/step - loss: 3.0588e-05 - val_loss: 0.0014\n",
            "Epoch 52/500\n",
            "312/312 [==============================] - 3s 9ms/step - loss: 2.8240e-05 - val_loss: 0.0011\n",
            "Epoch 53/500\n",
            "312/312 [==============================] - 3s 9ms/step - loss: 2.9352e-05 - val_loss: 0.0015\n",
            "Epoch 54/500\n",
            "312/312 [==============================] - 3s 9ms/step - loss: 2.9980e-05 - val_loss: 0.0011\n",
            "Epoch 55/500\n",
            "312/312 [==============================] - 3s 9ms/step - loss: 2.6572e-05 - val_loss: 0.0010\n",
            "Epoch 56/500\n",
            "312/312 [==============================] - 3s 9ms/step - loss: 2.6756e-05 - val_loss: 0.0014\n",
            "Epoch 57/500\n",
            "312/312 [==============================] - 3s 9ms/step - loss: 2.5843e-05 - val_loss: 0.0010\n",
            "Epoch 58/500\n",
            "312/312 [==============================] - 3s 9ms/step - loss: 2.5334e-05 - val_loss: 0.0011\n",
            "Epoch 59/500\n",
            "312/312 [==============================] - 3s 9ms/step - loss: 2.5608e-05 - val_loss: 9.6712e-04\n",
            "Epoch 60/500\n",
            "312/312 [==============================] - 3s 9ms/step - loss: 2.7357e-05 - val_loss: 9.8724e-04\n",
            "Epoch 61/500\n",
            "312/312 [==============================] - 3s 9ms/step - loss: 2.7130e-05 - val_loss: 9.4653e-04\n",
            "Epoch 62/500\n",
            "312/312 [==============================] - 3s 9ms/step - loss: 2.4210e-05 - val_loss: 9.1847e-04\n",
            "Epoch 63/500\n",
            "312/312 [==============================] - 3s 9ms/step - loss: 2.4746e-05 - val_loss: 7.0830e-04\n",
            "Epoch 64/500\n",
            "312/312 [==============================] - 3s 9ms/step - loss: 2.8344e-05 - val_loss: 8.7145e-04\n",
            "Epoch 65/500\n",
            "312/312 [==============================] - 3s 9ms/step - loss: 2.8152e-05 - val_loss: 7.7428e-04\n",
            "Epoch 66/500\n",
            "312/312 [==============================] - 3s 9ms/step - loss: 2.5967e-05 - val_loss: 9.4612e-04\n",
            "Epoch 67/500\n",
            "312/312 [==============================] - 3s 9ms/step - loss: 3.0677e-05 - val_loss: 7.0943e-04\n",
            "Epoch 68/500\n",
            "312/312 [==============================] - 3s 9ms/step - loss: 2.6600e-05 - val_loss: 7.2939e-04\n",
            "Epoch 69/500\n",
            "312/312 [==============================] - 3s 9ms/step - loss: 2.4252e-05 - val_loss: 6.7795e-04\n",
            "Epoch 70/500\n",
            "312/312 [==============================] - 3s 9ms/step - loss: 2.8287e-05 - val_loss: 6.3524e-04\n",
            "Epoch 71/500\n",
            "312/312 [==============================] - 3s 9ms/step - loss: 2.7792e-05 - val_loss: 5.0238e-04\n",
            "Epoch 72/500\n",
            "312/312 [==============================] - 3s 9ms/step - loss: 2.7992e-05 - val_loss: 6.1475e-04\n",
            "Epoch 73/500\n",
            "312/312 [==============================] - 3s 9ms/step - loss: 2.7808e-05 - val_loss: 5.8881e-04\n",
            "Epoch 74/500\n",
            "312/312 [==============================] - 3s 9ms/step - loss: 2.6445e-05 - val_loss: 7.3437e-04\n",
            "Epoch 75/500\n",
            "312/312 [==============================] - 3s 9ms/step - loss: 2.6414e-05 - val_loss: 6.1650e-04\n",
            "Epoch 76/500\n",
            "312/312 [==============================] - 3s 9ms/step - loss: 2.6267e-05 - val_loss: 6.0754e-04\n",
            "Epoch 77/500\n",
            "312/312 [==============================] - 3s 9ms/step - loss: 2.7310e-05 - val_loss: 5.7617e-04\n",
            "Epoch 78/500\n",
            "312/312 [==============================] - 3s 9ms/step - loss: 2.8446e-05 - val_loss: 4.4359e-04\n",
            "Epoch 79/500\n",
            "312/312 [==============================] - 3s 9ms/step - loss: 2.5048e-05 - val_loss: 5.3286e-04\n",
            "Epoch 80/500\n",
            "312/312 [==============================] - 3s 9ms/step - loss: 2.6866e-05 - val_loss: 4.0776e-04\n",
            "Epoch 81/500\n",
            "312/312 [==============================] - 3s 9ms/step - loss: 2.7479e-05 - val_loss: 5.7318e-04\n",
            "Epoch 82/500\n",
            "312/312 [==============================] - 3s 9ms/step - loss: 2.6001e-05 - val_loss: 5.0024e-04\n",
            "Epoch 83/500\n",
            "312/312 [==============================] - 3s 9ms/step - loss: 2.4298e-05 - val_loss: 4.7194e-04\n",
            "Epoch 84/500\n",
            "312/312 [==============================] - 3s 9ms/step - loss: 2.6935e-05 - val_loss: 5.3274e-04\n",
            "Epoch 85/500\n",
            "312/312 [==============================] - 3s 9ms/step - loss: 2.5264e-05 - val_loss: 4.7956e-04\n",
            "Epoch 86/500\n",
            "312/312 [==============================] - 3s 9ms/step - loss: 2.5779e-05 - val_loss: 3.3278e-04\n",
            "Epoch 87/500\n",
            "312/312 [==============================] - 3s 9ms/step - loss: 2.6944e-05 - val_loss: 4.9200e-04\n",
            "Epoch 88/500\n",
            "312/312 [==============================] - 3s 9ms/step - loss: 2.8259e-05 - val_loss: 5.2066e-04\n",
            "Epoch 89/500\n",
            "312/312 [==============================] - 3s 9ms/step - loss: 2.6900e-05 - val_loss: 5.0412e-04\n",
            "Epoch 90/500\n",
            "312/312 [==============================] - 3s 9ms/step - loss: 2.6854e-05 - val_loss: 3.5051e-04\n",
            "Epoch 91/500\n",
            "312/312 [==============================] - 3s 9ms/step - loss: 2.7690e-05 - val_loss: 3.8472e-04\n",
            "Epoch 92/500\n",
            "312/312 [==============================] - 3s 9ms/step - loss: 2.6155e-05 - val_loss: 2.9019e-04\n",
            "Epoch 93/500\n",
            "312/312 [==============================] - 3s 9ms/step - loss: 2.7356e-05 - val_loss: 3.1585e-04\n",
            "Epoch 94/500\n",
            "312/312 [==============================] - 3s 9ms/step - loss: 2.5233e-05 - val_loss: 3.1986e-04\n",
            "Epoch 95/500\n",
            "312/312 [==============================] - 3s 9ms/step - loss: 2.4830e-05 - val_loss: 3.5327e-04\n",
            "Epoch 96/500\n",
            "312/312 [==============================] - 3s 9ms/step - loss: 2.5716e-05 - val_loss: 3.5917e-04\n",
            "Epoch 97/500\n",
            "312/312 [==============================] - 3s 9ms/step - loss: 2.9438e-05 - val_loss: 4.1773e-04\n",
            "Epoch 98/500\n",
            "312/312 [==============================] - 3s 9ms/step - loss: 2.4084e-05 - val_loss: 3.3228e-04\n",
            "Epoch 99/500\n",
            "312/312 [==============================] - 3s 9ms/step - loss: 2.4346e-05 - val_loss: 2.3136e-04\n",
            "Epoch 100/500\n",
            "312/312 [==============================] - 3s 9ms/step - loss: 2.9305e-05 - val_loss: 4.3560e-04\n",
            "Epoch 101/500\n",
            "312/312 [==============================] - 3s 9ms/step - loss: 2.5358e-05 - val_loss: 3.8323e-04\n",
            "Epoch 102/500\n",
            "312/312 [==============================] - 3s 9ms/step - loss: 2.5306e-05 - val_loss: 5.1787e-04\n",
            "Epoch 103/500\n",
            "312/312 [==============================] - 3s 9ms/step - loss: 2.5177e-05 - val_loss: 3.4164e-04\n",
            "Epoch 104/500\n",
            "312/312 [==============================] - 3s 9ms/step - loss: 2.6329e-05 - val_loss: 3.7207e-04\n",
            "Epoch 105/500\n",
            "312/312 [==============================] - 3s 9ms/step - loss: 2.6777e-05 - val_loss: 3.4334e-04\n",
            "Epoch 106/500\n",
            "312/312 [==============================] - 3s 9ms/step - loss: 2.7717e-05 - val_loss: 2.2662e-04\n",
            "Epoch 107/500\n",
            "312/312 [==============================] - 3s 9ms/step - loss: 2.4777e-05 - val_loss: 2.9081e-04\n",
            "Epoch 108/500\n",
            "312/312 [==============================] - 3s 9ms/step - loss: 2.3706e-05 - val_loss: 4.1001e-04\n",
            "Epoch 109/500\n",
            "312/312 [==============================] - 3s 9ms/step - loss: 2.4188e-05 - val_loss: 2.6133e-04\n",
            "Epoch 110/500\n",
            "312/312 [==============================] - 3s 9ms/step - loss: 2.3936e-05 - val_loss: 2.5667e-04\n",
            "Epoch 111/500\n",
            "312/312 [==============================] - 3s 9ms/step - loss: 2.5789e-05 - val_loss: 3.1482e-04\n",
            "Epoch 112/500\n",
            "312/312 [==============================] - 3s 9ms/step - loss: 2.5294e-05 - val_loss: 3.4049e-04\n",
            "Epoch 113/500\n",
            "312/312 [==============================] - 3s 9ms/step - loss: 2.7631e-05 - val_loss: 3.0587e-04\n",
            "Epoch 114/500\n",
            "312/312 [==============================] - 3s 9ms/step - loss: 2.5570e-05 - val_loss: 2.8291e-04\n",
            "Epoch 115/500\n",
            "312/312 [==============================] - 3s 9ms/step - loss: 2.3618e-05 - val_loss: 2.8130e-04\n",
            "Epoch 116/500\n",
            "312/312 [==============================] - 3s 9ms/step - loss: 2.5545e-05 - val_loss: 3.6274e-04\n",
            "Epoch 117/500\n",
            "312/312 [==============================] - 3s 9ms/step - loss: 2.6336e-05 - val_loss: 3.7153e-04\n",
            "Epoch 118/500\n",
            "312/312 [==============================] - 3s 9ms/step - loss: 2.5664e-05 - val_loss: 2.4584e-04\n",
            "Epoch 119/500\n",
            "312/312 [==============================] - 3s 9ms/step - loss: 2.7153e-05 - val_loss: 2.9052e-04\n",
            "Epoch 120/500\n",
            "312/312 [==============================] - 3s 9ms/step - loss: 2.5251e-05 - val_loss: 3.7850e-04\n",
            "Epoch 121/500\n",
            "312/312 [==============================] - 3s 9ms/step - loss: 2.6571e-05 - val_loss: 3.5602e-04\n",
            "Epoch 122/500\n",
            "312/312 [==============================] - 3s 9ms/step - loss: 2.4238e-05 - val_loss: 3.6863e-04\n",
            "Epoch 123/500\n",
            "312/312 [==============================] - 3s 9ms/step - loss: 2.5918e-05 - val_loss: 3.1400e-04\n",
            "Epoch 124/500\n",
            "312/312 [==============================] - 3s 9ms/step - loss: 2.4283e-05 - val_loss: 3.2545e-04\n",
            "Epoch 125/500\n",
            "312/312 [==============================] - 3s 9ms/step - loss: 2.4901e-05 - val_loss: 2.7541e-04\n",
            "Epoch 126/500\n",
            "312/312 [==============================] - 3s 9ms/step - loss: 2.8461e-05 - val_loss: 2.9698e-04\n",
            "Epoch 127/500\n",
            "312/312 [==============================] - 3s 9ms/step - loss: 2.6751e-05 - val_loss: 4.2610e-04\n",
            "Epoch 128/500\n",
            "312/312 [==============================] - 3s 9ms/step - loss: 2.6987e-05 - val_loss: 3.7737e-04\n",
            "Epoch 129/500\n",
            "312/312 [==============================] - 3s 9ms/step - loss: 2.6036e-05 - val_loss: 2.5225e-04\n",
            "Epoch 130/500\n",
            "312/312 [==============================] - 3s 9ms/step - loss: 2.5848e-05 - val_loss: 3.8264e-04\n",
            "Epoch 131/500\n",
            "312/312 [==============================] - 3s 9ms/step - loss: 2.5405e-05 - val_loss: 2.9945e-04\n",
            "Epoch 132/500\n",
            "312/312 [==============================] - 3s 9ms/step - loss: 2.5775e-05 - val_loss: 3.7294e-04\n",
            "Epoch 133/500\n",
            "312/312 [==============================] - 3s 9ms/step - loss: 2.3307e-05 - val_loss: 2.3711e-04\n",
            "Epoch 134/500\n",
            "312/312 [==============================] - 3s 9ms/step - loss: 2.4377e-05 - val_loss: 3.4327e-04\n",
            "Epoch 135/500\n",
            "312/312 [==============================] - 3s 9ms/step - loss: 2.6108e-05 - val_loss: 3.2321e-04\n",
            "Epoch 136/500\n",
            "312/312 [==============================] - 3s 9ms/step - loss: 2.3367e-05 - val_loss: 4.3947e-04\n",
            "Epoch 137/500\n",
            "312/312 [==============================] - 3s 9ms/step - loss: 2.4389e-05 - val_loss: 2.7755e-04\n",
            "Epoch 138/500\n",
            "312/312 [==============================] - 3s 9ms/step - loss: 2.4299e-05 - val_loss: 2.4784e-04\n",
            "Epoch 139/500\n",
            "312/312 [==============================] - 3s 9ms/step - loss: 2.6153e-05 - val_loss: 3.9931e-04\n",
            "Epoch 140/500\n",
            "312/312 [==============================] - 3s 9ms/step - loss: 2.7826e-05 - val_loss: 2.9809e-04\n",
            "Epoch 141/500\n",
            "312/312 [==============================] - 3s 9ms/step - loss: 2.4764e-05 - val_loss: 3.5969e-04\n",
            "Epoch 142/500\n",
            "312/312 [==============================] - 3s 9ms/step - loss: 2.6186e-05 - val_loss: 2.4478e-04\n",
            "Epoch 143/500\n",
            "312/312 [==============================] - 3s 9ms/step - loss: 2.5766e-05 - val_loss: 3.2742e-04\n",
            "Epoch 144/500\n",
            "312/312 [==============================] - 3s 9ms/step - loss: 2.4343e-05 - val_loss: 2.2439e-04\n",
            "Epoch 145/500\n",
            "312/312 [==============================] - 3s 9ms/step - loss: 2.5221e-05 - val_loss: 2.0886e-04\n",
            "Epoch 146/500\n",
            "312/312 [==============================] - 3s 9ms/step - loss: 2.7234e-05 - val_loss: 2.4252e-04\n",
            "Epoch 147/500\n",
            "312/312 [==============================] - 3s 9ms/step - loss: 2.3884e-05 - val_loss: 2.8014e-04\n",
            "Epoch 148/500\n",
            "312/312 [==============================] - 3s 9ms/step - loss: 2.5530e-05 - val_loss: 3.0370e-04\n",
            "Epoch 149/500\n",
            "312/312 [==============================] - 3s 9ms/step - loss: 2.3865e-05 - val_loss: 3.4134e-04\n",
            "Epoch 150/500\n",
            "312/312 [==============================] - 3s 9ms/step - loss: 2.4209e-05 - val_loss: 2.6742e-04\n",
            "Epoch 151/500\n",
            "312/312 [==============================] - 3s 9ms/step - loss: 2.4145e-05 - val_loss: 2.5949e-04\n",
            "Epoch 152/500\n",
            "312/312 [==============================] - 3s 9ms/step - loss: 2.5744e-05 - val_loss: 2.3831e-04\n",
            "Epoch 153/500\n",
            "312/312 [==============================] - 3s 9ms/step - loss: 2.5683e-05 - val_loss: 2.8838e-04\n",
            "Epoch 154/500\n",
            "312/312 [==============================] - 3s 9ms/step - loss: 2.6274e-05 - val_loss: 3.3263e-04\n",
            "Epoch 155/500\n",
            "312/312 [==============================] - 3s 9ms/step - loss: 2.5620e-05 - val_loss: 3.6169e-04\n",
            "Epoch 156/500\n",
            "312/312 [==============================] - 3s 9ms/step - loss: 2.5968e-05 - val_loss: 3.6214e-04\n",
            "Epoch 157/500\n",
            "312/312 [==============================] - 3s 9ms/step - loss: 2.4888e-05 - val_loss: 3.6189e-04\n",
            "Epoch 158/500\n",
            "312/312 [==============================] - 3s 9ms/step - loss: 2.3589e-05 - val_loss: 3.5359e-04\n",
            "Epoch 159/500\n",
            "312/312 [==============================] - 3s 9ms/step - loss: 2.5128e-05 - val_loss: 2.7620e-04\n",
            "Epoch 160/500\n",
            "312/312 [==============================] - 3s 9ms/step - loss: 2.8891e-05 - val_loss: 2.6208e-04\n",
            "Epoch 161/500\n",
            "312/312 [==============================] - 3s 9ms/step - loss: 2.4547e-05 - val_loss: 3.5896e-04\n",
            "Epoch 162/500\n",
            "312/312 [==============================] - 3s 9ms/step - loss: 2.5136e-05 - val_loss: 3.1146e-04\n",
            "Epoch 163/500\n",
            "312/312 [==============================] - 3s 9ms/step - loss: 2.8521e-05 - val_loss: 2.8346e-04\n",
            "Epoch 164/500\n",
            "312/312 [==============================] - 3s 9ms/step - loss: 2.5997e-05 - val_loss: 2.2601e-04\n",
            "Epoch 165/500\n",
            "312/312 [==============================] - 3s 9ms/step - loss: 2.5737e-05 - val_loss: 2.8176e-04\n",
            "Epoch 166/500\n",
            "312/312 [==============================] - 3s 9ms/step - loss: 2.5145e-05 - val_loss: 2.6265e-04\n",
            "Epoch 167/500\n",
            "312/312 [==============================] - 3s 9ms/step - loss: 2.6816e-05 - val_loss: 4.5481e-04\n",
            "Epoch 168/500\n",
            "312/312 [==============================] - 3s 9ms/step - loss: 2.6906e-05 - val_loss: 3.2158e-04\n",
            "Epoch 169/500\n",
            "312/312 [==============================] - 3s 9ms/step - loss: 2.3485e-05 - val_loss: 3.0461e-04\n",
            "Epoch 170/500\n",
            "312/312 [==============================] - 3s 9ms/step - loss: 2.4604e-05 - val_loss: 3.3193e-04\n",
            "Epoch 171/500\n",
            "312/312 [==============================] - 3s 9ms/step - loss: 2.6643e-05 - val_loss: 2.4612e-04\n",
            "Epoch 172/500\n",
            "312/312 [==============================] - 3s 9ms/step - loss: 2.4954e-05 - val_loss: 2.8517e-04\n",
            "Epoch 173/500\n",
            "312/312 [==============================] - 3s 9ms/step - loss: 2.6432e-05 - val_loss: 3.4459e-04\n",
            "Epoch 174/500\n",
            "312/312 [==============================] - 3s 9ms/step - loss: 2.6369e-05 - val_loss: 3.8237e-04\n",
            "Epoch 175/500\n",
            "312/312 [==============================] - 3s 10ms/step - loss: 2.5229e-05 - val_loss: 3.8191e-04\n",
            "Epoch 176/500\n",
            "312/312 [==============================] - 3s 9ms/step - loss: 2.4268e-05 - val_loss: 2.7091e-04\n",
            "Epoch 177/500\n",
            "312/312 [==============================] - 3s 9ms/step - loss: 2.7674e-05 - val_loss: 3.5502e-04\n",
            "Epoch 178/500\n",
            "312/312 [==============================] - 3s 9ms/step - loss: 2.4693e-05 - val_loss: 3.3343e-04\n",
            "Epoch 179/500\n",
            "312/312 [==============================] - 3s 9ms/step - loss: 2.6725e-05 - val_loss: 2.7289e-04\n",
            "Epoch 180/500\n",
            "312/312 [==============================] - 3s 9ms/step - loss: 2.6410e-05 - val_loss: 3.4844e-04\n",
            "Epoch 181/500\n",
            "312/312 [==============================] - 3s 9ms/step - loss: 2.5156e-05 - val_loss: 2.9381e-04\n",
            "Epoch 182/500\n",
            "312/312 [==============================] - 3s 9ms/step - loss: 2.6373e-05 - val_loss: 2.6841e-04\n",
            "Epoch 183/500\n",
            "312/312 [==============================] - 3s 9ms/step - loss: 2.6748e-05 - val_loss: 2.8525e-04\n",
            "Epoch 184/500\n",
            "312/312 [==============================] - 3s 9ms/step - loss: 2.4429e-05 - val_loss: 3.7285e-04\n",
            "Epoch 185/500\n",
            "312/312 [==============================] - 3s 9ms/step - loss: 2.5849e-05 - val_loss: 2.5603e-04\n",
            "Epoch 186/500\n",
            "312/312 [==============================] - 3s 9ms/step - loss: 2.8063e-05 - val_loss: 2.7880e-04\n",
            "Epoch 187/500\n",
            "312/312 [==============================] - 3s 9ms/step - loss: 2.4817e-05 - val_loss: 2.4451e-04\n",
            "Epoch 188/500\n",
            "312/312 [==============================] - 3s 9ms/step - loss: 2.7721e-05 - val_loss: 2.2674e-04\n",
            "Epoch 189/500\n",
            "312/312 [==============================] - 3s 9ms/step - loss: 2.5470e-05 - val_loss: 2.5878e-04\n",
            "Epoch 190/500\n",
            "312/312 [==============================] - 3s 9ms/step - loss: 2.6940e-05 - val_loss: 3.4827e-04\n",
            "Epoch 191/500\n",
            "312/312 [==============================] - 3s 9ms/step - loss: 2.7535e-05 - val_loss: 3.4363e-04\n",
            "Epoch 192/500\n",
            "312/312 [==============================] - 3s 9ms/step - loss: 2.4619e-05 - val_loss: 2.6133e-04\n",
            "Epoch 193/500\n",
            "312/312 [==============================] - 3s 9ms/step - loss: 2.7025e-05 - val_loss: 3.8240e-04\n",
            "Epoch 194/500\n",
            "312/312 [==============================] - 3s 9ms/step - loss: 2.4805e-05 - val_loss: 3.1878e-04\n",
            "Epoch 195/500\n",
            "312/312 [==============================] - 3s 9ms/step - loss: 2.4828e-05 - val_loss: 4.4012e-04\n",
            "Epoch 196/500\n",
            "312/312 [==============================] - 3s 9ms/step - loss: 2.5434e-05 - val_loss: 2.4050e-04\n",
            "Epoch 197/500\n",
            "312/312 [==============================] - 3s 9ms/step - loss: 2.6021e-05 - val_loss: 2.3379e-04\n",
            "Epoch 198/500\n",
            "312/312 [==============================] - 3s 9ms/step - loss: 2.4317e-05 - val_loss: 2.5776e-04\n",
            "Epoch 199/500\n",
            "312/312 [==============================] - 3s 9ms/step - loss: 2.5270e-05 - val_loss: 2.6422e-04\n",
            "Epoch 200/500\n",
            "312/312 [==============================] - 3s 9ms/step - loss: 2.5178e-05 - val_loss: 2.9313e-04\n",
            "Epoch 201/500\n",
            "312/312 [==============================] - 3s 9ms/step - loss: 2.3728e-05 - val_loss: 2.7006e-04\n",
            "Epoch 202/500\n",
            "312/312 [==============================] - 3s 9ms/step - loss: 2.5678e-05 - val_loss: 3.5775e-04\n",
            "Epoch 203/500\n",
            "312/312 [==============================] - 3s 9ms/step - loss: 2.9012e-05 - val_loss: 3.0622e-04\n",
            "Epoch 204/500\n",
            "312/312 [==============================] - 3s 9ms/step - loss: 2.5966e-05 - val_loss: 1.9020e-04\n",
            "Epoch 205/500\n",
            "312/312 [==============================] - 3s 9ms/step - loss: 2.6179e-05 - val_loss: 2.7615e-04\n",
            "Epoch 206/500\n",
            "312/312 [==============================] - 3s 9ms/step - loss: 2.4912e-05 - val_loss: 2.6869e-04\n",
            "Epoch 207/500\n",
            "312/312 [==============================] - 3s 9ms/step - loss: 2.5706e-05 - val_loss: 3.2117e-04\n",
            "Epoch 208/500\n",
            "312/312 [==============================] - 3s 9ms/step - loss: 2.6044e-05 - val_loss: 2.5139e-04\n",
            "Epoch 209/500\n",
            "312/312 [==============================] - 3s 9ms/step - loss: 2.5467e-05 - val_loss: 2.6242e-04\n",
            "Epoch 210/500\n",
            "312/312 [==============================] - 3s 10ms/step - loss: 2.4799e-05 - val_loss: 3.1006e-04\n",
            "Epoch 211/500\n",
            "312/312 [==============================] - 3s 10ms/step - loss: 2.5609e-05 - val_loss: 2.6859e-04\n",
            "Epoch 212/500\n",
            "312/312 [==============================] - 3s 9ms/step - loss: 2.5370e-05 - val_loss: 2.9629e-04\n",
            "Epoch 213/500\n",
            "312/312 [==============================] - 3s 9ms/step - loss: 2.4672e-05 - val_loss: 2.6836e-04\n",
            "Epoch 214/500\n",
            "312/312 [==============================] - 3s 9ms/step - loss: 2.3767e-05 - val_loss: 3.0596e-04\n",
            "Epoch 215/500\n",
            "312/312 [==============================] - 3s 9ms/step - loss: 2.4625e-05 - val_loss: 3.3022e-04\n",
            "Epoch 216/500\n",
            "312/312 [==============================] - 3s 9ms/step - loss: 2.4377e-05 - val_loss: 2.4414e-04\n",
            "Epoch 217/500\n",
            "312/312 [==============================] - 3s 9ms/step - loss: 2.4336e-05 - val_loss: 3.0673e-04\n",
            "Epoch 218/500\n",
            "312/312 [==============================] - 3s 9ms/step - loss: 2.5192e-05 - val_loss: 2.1303e-04\n",
            "Epoch 219/500\n",
            "312/312 [==============================] - 3s 9ms/step - loss: 2.6692e-05 - val_loss: 2.3628e-04\n",
            "Epoch 220/500\n",
            "312/312 [==============================] - 3s 10ms/step - loss: 2.5612e-05 - val_loss: 2.6606e-04\n",
            "Epoch 221/500\n",
            "312/312 [==============================] - 3s 9ms/step - loss: 2.7890e-05 - val_loss: 3.3937e-04\n",
            "Epoch 222/500\n",
            "312/312 [==============================] - 3s 9ms/step - loss: 2.5039e-05 - val_loss: 2.0884e-04\n",
            "Epoch 223/500\n",
            "312/312 [==============================] - 3s 9ms/step - loss: 2.6556e-05 - val_loss: 2.4912e-04\n",
            "Epoch 224/500\n",
            "312/312 [==============================] - 3s 9ms/step - loss: 2.5976e-05 - val_loss: 2.6048e-04\n",
            "Epoch 225/500\n",
            "312/312 [==============================] - 3s 9ms/step - loss: 2.5503e-05 - val_loss: 2.6309e-04\n",
            "Epoch 226/500\n",
            "312/312 [==============================] - 3s 9ms/step - loss: 2.4788e-05 - val_loss: 3.0052e-04\n",
            "Epoch 227/500\n",
            "312/312 [==============================] - 3s 9ms/step - loss: 2.5165e-05 - val_loss: 3.3572e-04\n",
            "Epoch 228/500\n",
            "312/312 [==============================] - 3s 9ms/step - loss: 2.2643e-05 - val_loss: 2.9608e-04\n",
            "Epoch 229/500\n",
            "312/312 [==============================] - 3s 9ms/step - loss: 2.4065e-05 - val_loss: 4.6670e-04\n",
            "Epoch 230/500\n",
            "312/312 [==============================] - 3s 9ms/step - loss: 2.5773e-05 - val_loss: 3.0070e-04\n",
            "Epoch 231/500\n",
            "312/312 [==============================] - 3s 9ms/step - loss: 2.4703e-05 - val_loss: 4.0133e-04\n",
            "Epoch 232/500\n",
            "312/312 [==============================] - 3s 9ms/step - loss: 2.3965e-05 - val_loss: 2.4180e-04\n",
            "Epoch 233/500\n",
            "312/312 [==============================] - 3s 9ms/step - loss: 2.4749e-05 - val_loss: 3.2622e-04\n",
            "Epoch 234/500\n",
            "312/312 [==============================] - 3s 9ms/step - loss: 2.4482e-05 - val_loss: 3.4916e-04\n",
            "Epoch 235/500\n",
            "312/312 [==============================] - 3s 9ms/step - loss: 2.4310e-05 - val_loss: 2.2333e-04\n",
            "Epoch 236/500\n",
            "312/312 [==============================] - 3s 9ms/step - loss: 2.6313e-05 - val_loss: 5.0387e-04\n",
            "Epoch 237/500\n",
            "312/312 [==============================] - 3s 9ms/step - loss: 2.4711e-05 - val_loss: 3.4534e-04\n",
            "Epoch 238/500\n",
            "312/312 [==============================] - 3s 9ms/step - loss: 2.3184e-05 - val_loss: 3.0033e-04\n",
            "Epoch 239/500\n",
            "312/312 [==============================] - 3s 10ms/step - loss: 2.3783e-05 - val_loss: 2.8352e-04\n",
            "Epoch 240/500\n",
            "312/312 [==============================] - 3s 10ms/step - loss: 2.5004e-05 - val_loss: 2.6725e-04\n",
            "Epoch 241/500\n",
            "312/312 [==============================] - 3s 10ms/step - loss: 2.5202e-05 - val_loss: 2.4161e-04\n",
            "Epoch 242/500\n",
            "312/312 [==============================] - 3s 10ms/step - loss: 2.3541e-05 - val_loss: 2.2999e-04\n",
            "Epoch 243/500\n",
            "312/312 [==============================] - 3s 10ms/step - loss: 2.5489e-05 - val_loss: 2.6429e-04\n",
            "Epoch 244/500\n",
            "312/312 [==============================] - 3s 10ms/step - loss: 2.6151e-05 - val_loss: 3.4478e-04\n",
            "Epoch 245/500\n",
            "312/312 [==============================] - 3s 9ms/step - loss: 2.5193e-05 - val_loss: 3.1097e-04\n",
            "Epoch 246/500\n",
            "312/312 [==============================] - 3s 9ms/step - loss: 2.6112e-05 - val_loss: 2.7098e-04\n",
            "Epoch 247/500\n",
            "312/312 [==============================] - 3s 9ms/step - loss: 2.3542e-05 - val_loss: 2.7081e-04\n",
            "Epoch 248/500\n",
            "312/312 [==============================] - 3s 9ms/step - loss: 2.4319e-05 - val_loss: 2.6740e-04\n",
            "Epoch 249/500\n",
            "312/312 [==============================] - 3s 9ms/step - loss: 2.5331e-05 - val_loss: 3.1083e-04\n",
            "Epoch 250/500\n",
            "312/312 [==============================] - 3s 10ms/step - loss: 2.5327e-05 - val_loss: 2.6946e-04\n",
            "Epoch 251/500\n",
            "312/312 [==============================] - 3s 10ms/step - loss: 2.4065e-05 - val_loss: 2.9953e-04\n",
            "Epoch 252/500\n",
            "312/312 [==============================] - 3s 10ms/step - loss: 2.5320e-05 - val_loss: 2.9460e-04\n",
            "Epoch 253/500\n",
            "312/312 [==============================] - 3s 10ms/step - loss: 2.4970e-05 - val_loss: 2.8504e-04\n",
            "Epoch 254/500\n",
            "312/312 [==============================] - 3s 10ms/step - loss: 2.5762e-05 - val_loss: 2.0191e-04\n",
            "Epoch 255/500\n",
            "312/312 [==============================] - 3s 9ms/step - loss: 2.4875e-05 - val_loss: 3.2248e-04\n",
            "Epoch 256/500\n",
            "312/312 [==============================] - 3s 9ms/step - loss: 2.5500e-05 - val_loss: 2.9125e-04\n",
            "Epoch 257/500\n",
            "312/312 [==============================] - 3s 9ms/step - loss: 2.4749e-05 - val_loss: 2.0563e-04\n",
            "Epoch 258/500\n",
            "312/312 [==============================] - 3s 9ms/step - loss: 2.6498e-05 - val_loss: 2.6152e-04\n",
            "Epoch 259/500\n",
            "312/312 [==============================] - 3s 9ms/step - loss: 2.4940e-05 - val_loss: 3.4135e-04\n",
            "Epoch 260/500\n",
            "312/312 [==============================] - 3s 10ms/step - loss: 2.4325e-05 - val_loss: 3.8502e-04\n",
            "Epoch 261/500\n",
            "312/312 [==============================] - 3s 9ms/step - loss: 2.5324e-05 - val_loss: 2.2973e-04\n",
            "Epoch 262/500\n",
            "312/312 [==============================] - 3s 9ms/step - loss: 2.5970e-05 - val_loss: 3.5818e-04\n",
            "Epoch 263/500\n",
            "312/312 [==============================] - 3s 10ms/step - loss: 2.5710e-05 - val_loss: 2.4976e-04\n",
            "Epoch 264/500\n",
            "312/312 [==============================] - 3s 9ms/step - loss: 2.4870e-05 - val_loss: 2.9409e-04\n",
            "Epoch 265/500\n",
            "312/312 [==============================] - 3s 9ms/step - loss: 2.5050e-05 - val_loss: 2.6099e-04\n",
            "Epoch 266/500\n",
            "312/312 [==============================] - 3s 9ms/step - loss: 2.5057e-05 - val_loss: 2.4762e-04\n",
            "Epoch 267/500\n",
            "312/312 [==============================] - 3s 10ms/step - loss: 2.7554e-05 - val_loss: 3.4091e-04\n",
            "Epoch 268/500\n",
            "312/312 [==============================] - 3s 10ms/step - loss: 2.3169e-05 - val_loss: 2.6300e-04\n",
            "Epoch 269/500\n",
            "312/312 [==============================] - 3s 9ms/step - loss: 2.4890e-05 - val_loss: 2.7491e-04\n",
            "Epoch 270/500\n",
            "312/312 [==============================] - 3s 10ms/step - loss: 2.5092e-05 - val_loss: 2.9742e-04\n",
            "Epoch 271/500\n",
            "312/312 [==============================] - 3s 10ms/step - loss: 2.4888e-05 - val_loss: 2.8034e-04\n",
            "Epoch 272/500\n",
            "312/312 [==============================] - 3s 10ms/step - loss: 2.4115e-05 - val_loss: 2.6982e-04\n",
            "Epoch 273/500\n",
            "312/312 [==============================] - 3s 10ms/step - loss: 2.7463e-05 - val_loss: 2.0161e-04\n",
            "Epoch 274/500\n",
            "312/312 [==============================] - 3s 10ms/step - loss: 2.5578e-05 - val_loss: 2.4251e-04\n",
            "Epoch 275/500\n",
            "312/312 [==============================] - 3s 10ms/step - loss: 2.6910e-05 - val_loss: 1.9018e-04\n",
            "Epoch 276/500\n",
            "312/312 [==============================] - 3s 9ms/step - loss: 2.4964e-05 - val_loss: 3.5665e-04\n",
            "Epoch 277/500\n",
            "312/312 [==============================] - 3s 9ms/step - loss: 2.6592e-05 - val_loss: 3.6880e-04\n",
            "Epoch 278/500\n",
            "312/312 [==============================] - 3s 10ms/step - loss: 2.4135e-05 - val_loss: 2.7420e-04\n",
            "Epoch 279/500\n",
            "312/312 [==============================] - 3s 10ms/step - loss: 2.5971e-05 - val_loss: 3.3264e-04\n",
            "Epoch 280/500\n",
            "312/312 [==============================] - 3s 10ms/step - loss: 2.4519e-05 - val_loss: 3.2901e-04\n",
            "Epoch 281/500\n",
            "312/312 [==============================] - 3s 10ms/step - loss: 2.5207e-05 - val_loss: 2.9933e-04\n",
            "Epoch 282/500\n",
            "312/312 [==============================] - 3s 10ms/step - loss: 2.6473e-05 - val_loss: 3.5217e-04\n",
            "Epoch 283/500\n",
            "312/312 [==============================] - 3s 9ms/step - loss: 2.5162e-05 - val_loss: 2.8290e-04\n",
            "Epoch 284/500\n",
            "312/312 [==============================] - 3s 9ms/step - loss: 2.4650e-05 - val_loss: 3.4324e-04\n",
            "Epoch 285/500\n",
            "312/312 [==============================] - 3s 10ms/step - loss: 2.5091e-05 - val_loss: 2.5513e-04\n",
            "Epoch 286/500\n",
            "312/312 [==============================] - 3s 10ms/step - loss: 2.4853e-05 - val_loss: 2.9671e-04\n",
            "Epoch 287/500\n",
            "312/312 [==============================] - 3s 10ms/step - loss: 2.5923e-05 - val_loss: 2.0826e-04\n",
            "Epoch 288/500\n",
            "312/312 [==============================] - 3s 10ms/step - loss: 2.5775e-05 - val_loss: 3.0029e-04\n",
            "Epoch 289/500\n",
            "312/312 [==============================] - 3s 10ms/step - loss: 2.5037e-05 - val_loss: 2.1407e-04\n",
            "Epoch 290/500\n",
            "312/312 [==============================] - 3s 10ms/step - loss: 2.5842e-05 - val_loss: 2.5283e-04\n",
            "Epoch 291/500\n",
            "312/312 [==============================] - 3s 10ms/step - loss: 2.5084e-05 - val_loss: 2.2534e-04\n",
            "Epoch 292/500\n",
            "312/312 [==============================] - 3s 9ms/step - loss: 2.4336e-05 - val_loss: 2.3541e-04\n",
            "Epoch 293/500\n",
            "312/312 [==============================] - 3s 10ms/step - loss: 2.6350e-05 - val_loss: 2.7589e-04\n",
            "Epoch 294/500\n",
            "312/312 [==============================] - 3s 9ms/step - loss: 2.2965e-05 - val_loss: 2.9280e-04\n",
            "Epoch 295/500\n",
            "312/312 [==============================] - 3s 10ms/step - loss: 2.5640e-05 - val_loss: 2.5747e-04\n",
            "Epoch 296/500\n",
            "312/312 [==============================] - 3s 10ms/step - loss: 2.3213e-05 - val_loss: 2.2031e-04\n",
            "Epoch 297/500\n",
            "312/312 [==============================] - 3s 9ms/step - loss: 2.7301e-05 - val_loss: 2.2958e-04\n",
            "Epoch 298/500\n",
            "312/312 [==============================] - 3s 10ms/step - loss: 2.4649e-05 - val_loss: 2.8562e-04\n",
            "Epoch 299/500\n",
            "312/312 [==============================] - 3s 9ms/step - loss: 2.4966e-05 - val_loss: 2.5165e-04\n",
            "Epoch 300/500\n",
            "312/312 [==============================] - 3s 10ms/step - loss: 2.3638e-05 - val_loss: 2.1794e-04\n",
            "Epoch 301/500\n",
            "312/312 [==============================] - 3s 10ms/step - loss: 2.3356e-05 - val_loss: 2.8258e-04\n",
            "Epoch 302/500\n",
            "312/312 [==============================] - 3s 10ms/step - loss: 2.6567e-05 - val_loss: 2.4076e-04\n",
            "Epoch 303/500\n",
            "312/312 [==============================] - 3s 10ms/step - loss: 2.6336e-05 - val_loss: 2.7406e-04\n",
            "Epoch 304/500\n",
            "312/312 [==============================] - 3s 9ms/step - loss: 2.4710e-05 - val_loss: 2.4714e-04\n",
            "Epoch 305/500\n",
            "312/312 [==============================] - 3s 10ms/step - loss: 2.3748e-05 - val_loss: 3.6210e-04\n",
            "Epoch 306/500\n",
            "312/312 [==============================] - 3s 10ms/step - loss: 2.3938e-05 - val_loss: 2.4792e-04\n",
            "Epoch 307/500\n",
            "312/312 [==============================] - 3s 10ms/step - loss: 2.5200e-05 - val_loss: 3.1292e-04\n",
            "Epoch 308/500\n",
            "312/312 [==============================] - 3s 10ms/step - loss: 2.3923e-05 - val_loss: 2.5640e-04\n",
            "Epoch 309/500\n",
            "312/312 [==============================] - 3s 9ms/step - loss: 2.5831e-05 - val_loss: 2.1805e-04\n",
            "Epoch 310/500\n",
            "312/312 [==============================] - 3s 10ms/step - loss: 2.6386e-05 - val_loss: 2.0705e-04\n",
            "Epoch 311/500\n",
            "312/312 [==============================] - 3s 10ms/step - loss: 2.4049e-05 - val_loss: 2.5568e-04\n",
            "Epoch 312/500\n",
            "312/312 [==============================] - 3s 10ms/step - loss: 2.6422e-05 - val_loss: 2.4759e-04\n",
            "Epoch 313/500\n",
            "312/312 [==============================] - 3s 10ms/step - loss: 2.4639e-05 - val_loss: 2.3760e-04\n",
            "Epoch 314/500\n",
            "312/312 [==============================] - 3s 10ms/step - loss: 2.4065e-05 - val_loss: 2.4350e-04\n",
            "Epoch 315/500\n",
            "312/312 [==============================] - 3s 10ms/step - loss: 2.4612e-05 - val_loss: 3.7643e-04\n",
            "Epoch 316/500\n",
            "312/312 [==============================] - 3s 10ms/step - loss: 2.6069e-05 - val_loss: 2.4345e-04\n",
            "Epoch 317/500\n",
            "312/312 [==============================] - 3s 10ms/step - loss: 2.5758e-05 - val_loss: 2.6449e-04\n",
            "Epoch 318/500\n",
            "312/312 [==============================] - 3s 10ms/step - loss: 2.6337e-05 - val_loss: 2.8754e-04\n",
            "Epoch 319/500\n",
            "312/312 [==============================] - 3s 10ms/step - loss: 2.6283e-05 - val_loss: 3.1534e-04\n",
            "Epoch 320/500\n",
            "312/312 [==============================] - 3s 10ms/step - loss: 2.5788e-05 - val_loss: 2.1588e-04\n",
            "Epoch 321/500\n",
            "312/312 [==============================] - 3s 10ms/step - loss: 2.5220e-05 - val_loss: 2.8334e-04\n",
            "Epoch 322/500\n",
            "312/312 [==============================] - 3s 10ms/step - loss: 2.6407e-05 - val_loss: 2.3263e-04\n",
            "Epoch 323/500\n",
            "312/312 [==============================] - 3s 9ms/step - loss: 2.4251e-05 - val_loss: 2.7791e-04\n",
            "Epoch 324/500\n",
            "312/312 [==============================] - 3s 10ms/step - loss: 2.3337e-05 - val_loss: 2.7115e-04\n",
            "Epoch 325/500\n",
            "312/312 [==============================] - 3s 9ms/step - loss: 2.3056e-05 - val_loss: 2.8714e-04\n",
            "Epoch 326/500\n",
            "312/312 [==============================] - 3s 9ms/step - loss: 2.5543e-05 - val_loss: 2.0812e-04\n",
            "Epoch 327/500\n",
            "312/312 [==============================] - 3s 10ms/step - loss: 2.4791e-05 - val_loss: 2.9215e-04\n",
            "Epoch 328/500\n",
            "312/312 [==============================] - 3s 10ms/step - loss: 2.5070e-05 - val_loss: 3.0292e-04\n",
            "Epoch 329/500\n",
            "312/312 [==============================] - 3s 10ms/step - loss: 2.4405e-05 - val_loss: 2.7050e-04\n",
            "Epoch 330/500\n",
            "312/312 [==============================] - 3s 10ms/step - loss: 2.6457e-05 - val_loss: 1.7914e-04\n",
            "Epoch 331/500\n",
            "312/312 [==============================] - 3s 10ms/step - loss: 2.5784e-05 - val_loss: 2.6087e-04\n",
            "Epoch 332/500\n",
            "312/312 [==============================] - 3s 9ms/step - loss: 2.4569e-05 - val_loss: 2.6709e-04\n",
            "Epoch 333/500\n",
            "312/312 [==============================] - 3s 10ms/step - loss: 2.3684e-05 - val_loss: 2.4313e-04\n",
            "Epoch 334/500\n",
            "312/312 [==============================] - 3s 10ms/step - loss: 2.7489e-05 - val_loss: 1.7790e-04\n",
            "Epoch 335/500\n",
            "312/312 [==============================] - 3s 10ms/step - loss: 2.4760e-05 - val_loss: 2.4111e-04\n",
            "Epoch 336/500\n",
            "312/312 [==============================] - 3s 10ms/step - loss: 2.5659e-05 - val_loss: 2.8000e-04\n",
            "Epoch 337/500\n",
            "312/312 [==============================] - 3s 9ms/step - loss: 2.4144e-05 - val_loss: 2.2458e-04\n",
            "Epoch 338/500\n",
            "312/312 [==============================] - 3s 10ms/step - loss: 2.5705e-05 - val_loss: 2.6461e-04\n",
            "Epoch 339/500\n",
            "312/312 [==============================] - 3s 10ms/step - loss: 2.4573e-05 - val_loss: 2.6471e-04\n",
            "Epoch 340/500\n",
            "312/312 [==============================] - 3s 10ms/step - loss: 2.5034e-05 - val_loss: 2.2728e-04\n",
            "Epoch 341/500\n",
            "312/312 [==============================] - 3s 10ms/step - loss: 2.4118e-05 - val_loss: 2.5365e-04\n",
            "Epoch 342/500\n",
            "312/312 [==============================] - 3s 10ms/step - loss: 2.4707e-05 - val_loss: 2.0932e-04\n",
            "Epoch 343/500\n",
            "312/312 [==============================] - 3s 10ms/step - loss: 2.3537e-05 - val_loss: 2.0866e-04\n",
            "Epoch 344/500\n",
            "312/312 [==============================] - 3s 10ms/step - loss: 2.3296e-05 - val_loss: 2.1357e-04\n",
            "Epoch 345/500\n",
            "312/312 [==============================] - 3s 10ms/step - loss: 2.6626e-05 - val_loss: 2.0660e-04\n",
            "Epoch 346/500\n",
            "312/312 [==============================] - 3s 10ms/step - loss: 2.6508e-05 - val_loss: 2.3562e-04\n",
            "Epoch 347/500\n",
            "312/312 [==============================] - 3s 10ms/step - loss: 2.5156e-05 - val_loss: 2.8777e-04\n",
            "Epoch 348/500\n",
            "312/312 [==============================] - 3s 10ms/step - loss: 2.5485e-05 - val_loss: 3.7489e-04\n",
            "Epoch 349/500\n",
            "312/312 [==============================] - 3s 10ms/step - loss: 2.6567e-05 - val_loss: 1.7600e-04\n",
            "Epoch 350/500\n",
            "312/312 [==============================] - 3s 10ms/step - loss: 2.7142e-05 - val_loss: 2.9150e-04\n",
            "Epoch 351/500\n",
            "312/312 [==============================] - 3s 10ms/step - loss: 2.6881e-05 - val_loss: 2.7788e-04\n",
            "Epoch 352/500\n",
            "312/312 [==============================] - 3s 10ms/step - loss: 2.3334e-05 - val_loss: 3.1225e-04\n",
            "Epoch 353/500\n",
            "312/312 [==============================] - 3s 10ms/step - loss: 2.5265e-05 - val_loss: 3.0749e-04\n",
            "Epoch 354/500\n",
            "312/312 [==============================] - 3s 10ms/step - loss: 2.8020e-05 - val_loss: 2.1159e-04\n",
            "Epoch 355/500\n",
            "312/312 [==============================] - 3s 10ms/step - loss: 2.5521e-05 - val_loss: 2.0145e-04\n",
            "Epoch 356/500\n",
            "312/312 [==============================] - 3s 10ms/step - loss: 2.5092e-05 - val_loss: 2.0415e-04\n",
            "Epoch 357/500\n",
            "312/312 [==============================] - 3s 10ms/step - loss: 2.4445e-05 - val_loss: 2.5336e-04\n",
            "Epoch 358/500\n",
            "312/312 [==============================] - 3s 9ms/step - loss: 2.3964e-05 - val_loss: 2.4795e-04\n",
            "Epoch 359/500\n",
            "312/312 [==============================] - 3s 10ms/step - loss: 2.6291e-05 - val_loss: 2.7861e-04\n",
            "Epoch 360/500\n",
            "312/312 [==============================] - 3s 10ms/step - loss: 2.6782e-05 - val_loss: 1.7145e-04\n",
            "Epoch 361/500\n",
            "312/312 [==============================] - 3s 10ms/step - loss: 2.6287e-05 - val_loss: 2.2627e-04\n",
            "Epoch 362/500\n",
            "312/312 [==============================] - 3s 10ms/step - loss: 2.4746e-05 - val_loss: 2.4776e-04\n",
            "Epoch 363/500\n",
            "312/312 [==============================] - 3s 10ms/step - loss: 2.4479e-05 - val_loss: 2.2495e-04\n",
            "Epoch 364/500\n",
            "312/312 [==============================] - 3s 10ms/step - loss: 2.6140e-05 - val_loss: 2.8849e-04\n",
            "Epoch 365/500\n",
            "312/312 [==============================] - 3s 10ms/step - loss: 2.5211e-05 - val_loss: 1.9240e-04\n",
            "Epoch 366/500\n",
            "312/312 [==============================] - 3s 10ms/step - loss: 2.6625e-05 - val_loss: 1.9465e-04\n",
            "Epoch 367/500\n",
            "312/312 [==============================] - 3s 10ms/step - loss: 2.3261e-05 - val_loss: 2.5546e-04\n",
            "Epoch 368/500\n",
            "312/312 [==============================] - 3s 10ms/step - loss: 2.4589e-05 - val_loss: 2.0584e-04\n",
            "Epoch 369/500\n",
            "312/312 [==============================] - 3s 10ms/step - loss: 2.5621e-05 - val_loss: 1.7607e-04\n",
            "Epoch 370/500\n",
            "312/312 [==============================] - 3s 10ms/step - loss: 2.8175e-05 - val_loss: 2.2377e-04\n",
            "Epoch 371/500\n",
            "312/312 [==============================] - 3s 10ms/step - loss: 2.3506e-05 - val_loss: 2.5528e-04\n",
            "Epoch 372/500\n",
            "312/312 [==============================] - 3s 10ms/step - loss: 2.5716e-05 - val_loss: 2.3708e-04\n",
            "Epoch 373/500\n",
            "312/312 [==============================] - 3s 10ms/step - loss: 2.4373e-05 - val_loss: 3.7116e-04\n",
            "Epoch 374/500\n",
            "312/312 [==============================] - 3s 10ms/step - loss: 2.6989e-05 - val_loss: 2.1548e-04\n",
            "Epoch 375/500\n",
            "312/312 [==============================] - 3s 10ms/step - loss: 2.3876e-05 - val_loss: 2.2628e-04\n",
            "Epoch 376/500\n",
            "312/312 [==============================] - 3s 10ms/step - loss: 2.4703e-05 - val_loss: 2.3641e-04\n",
            "Epoch 377/500\n",
            "312/312 [==============================] - 3s 10ms/step - loss: 2.5524e-05 - val_loss: 2.3435e-04\n",
            "Epoch 378/500\n",
            "312/312 [==============================] - 3s 10ms/step - loss: 2.3724e-05 - val_loss: 1.9585e-04\n",
            "Epoch 379/500\n",
            "312/312 [==============================] - 3s 10ms/step - loss: 2.6676e-05 - val_loss: 2.3175e-04\n",
            "Epoch 380/500\n",
            "312/312 [==============================] - 3s 10ms/step - loss: 2.5899e-05 - val_loss: 2.9386e-04\n",
            "Epoch 381/500\n",
            "312/312 [==============================] - 3s 10ms/step - loss: 2.6635e-05 - val_loss: 2.5205e-04\n",
            "Epoch 382/500\n",
            "312/312 [==============================] - 3s 10ms/step - loss: 2.4983e-05 - val_loss: 1.8953e-04\n",
            "Epoch 383/500\n",
            "312/312 [==============================] - 3s 10ms/step - loss: 2.7299e-05 - val_loss: 2.5451e-04\n",
            "Epoch 384/500\n",
            "312/312 [==============================] - 3s 10ms/step - loss: 2.3467e-05 - val_loss: 2.0421e-04\n",
            "Epoch 385/500\n",
            "312/312 [==============================] - 3s 10ms/step - loss: 2.4595e-05 - val_loss: 2.2024e-04\n",
            "Epoch 386/500\n",
            "312/312 [==============================] - 3s 10ms/step - loss: 2.3658e-05 - val_loss: 3.2693e-04\n",
            "Epoch 387/500\n",
            "312/312 [==============================] - 3s 10ms/step - loss: 2.4487e-05 - val_loss: 2.1157e-04\n",
            "Epoch 388/500\n",
            "312/312 [==============================] - 3s 10ms/step - loss: 2.9342e-05 - val_loss: 3.0443e-04\n",
            "Epoch 389/500\n",
            "312/312 [==============================] - 3s 10ms/step - loss: 2.5928e-05 - val_loss: 2.2928e-04\n",
            "Epoch 390/500\n",
            "312/312 [==============================] - 3s 10ms/step - loss: 2.4981e-05 - val_loss: 2.7166e-04\n",
            "Epoch 391/500\n",
            "312/312 [==============================] - 3s 10ms/step - loss: 2.5312e-05 - val_loss: 1.9678e-04\n",
            "Epoch 392/500\n",
            "312/312 [==============================] - 3s 10ms/step - loss: 2.4132e-05 - val_loss: 1.5443e-04\n",
            "Epoch 393/500\n",
            "312/312 [==============================] - 3s 10ms/step - loss: 2.6099e-05 - val_loss: 1.9858e-04\n",
            "Epoch 394/500\n",
            "312/312 [==============================] - 3s 10ms/step - loss: 2.6080e-05 - val_loss: 2.9392e-04\n",
            "Epoch 395/500\n",
            "312/312 [==============================] - 3s 10ms/step - loss: 2.6162e-05 - val_loss: 2.9434e-04\n",
            "Epoch 396/500\n",
            "312/312 [==============================] - 3s 10ms/step - loss: 2.4285e-05 - val_loss: 2.3010e-04\n",
            "Epoch 397/500\n",
            "312/312 [==============================] - 3s 10ms/step - loss: 2.5936e-05 - val_loss: 2.3200e-04\n",
            "Epoch 398/500\n",
            "312/312 [==============================] - 3s 10ms/step - loss: 2.6041e-05 - val_loss: 2.4811e-04\n",
            "Epoch 399/500\n",
            "312/312 [==============================] - 3s 10ms/step - loss: 2.5414e-05 - val_loss: 1.8888e-04\n",
            "Epoch 400/500\n",
            "312/312 [==============================] - 3s 10ms/step - loss: 2.5365e-05 - val_loss: 2.7648e-04\n",
            "Epoch 401/500\n",
            "312/312 [==============================] - 3s 10ms/step - loss: 2.5069e-05 - val_loss: 1.6146e-04\n",
            "Epoch 402/500\n",
            "312/312 [==============================] - 3s 10ms/step - loss: 2.4300e-05 - val_loss: 2.0821e-04\n",
            "Epoch 403/500\n",
            "312/312 [==============================] - 3s 10ms/step - loss: 2.2753e-05 - val_loss: 2.0414e-04\n",
            "Epoch 404/500\n",
            "312/312 [==============================] - 3s 10ms/step - loss: 2.6003e-05 - val_loss: 2.1678e-04\n",
            "Epoch 405/500\n",
            "312/312 [==============================] - 3s 10ms/step - loss: 2.5317e-05 - val_loss: 1.7331e-04\n",
            "Epoch 406/500\n",
            "312/312 [==============================] - 3s 10ms/step - loss: 2.5744e-05 - val_loss: 1.8132e-04\n",
            "Epoch 407/500\n",
            "312/312 [==============================] - 3s 10ms/step - loss: 2.5018e-05 - val_loss: 2.2849e-04\n",
            "Epoch 408/500\n",
            "312/312 [==============================] - 3s 10ms/step - loss: 2.4491e-05 - val_loss: 2.6018e-04\n",
            "Epoch 409/500\n",
            "312/312 [==============================] - 3s 10ms/step - loss: 2.4179e-05 - val_loss: 2.2675e-04\n",
            "Epoch 410/500\n",
            "312/312 [==============================] - 3s 10ms/step - loss: 2.4101e-05 - val_loss: 2.2613e-04\n",
            "Epoch 411/500\n",
            "312/312 [==============================] - 3s 10ms/step - loss: 2.4509e-05 - val_loss: 1.6859e-04\n",
            "Epoch 412/500\n",
            "312/312 [==============================] - 3s 10ms/step - loss: 2.3031e-05 - val_loss: 2.6108e-04\n",
            "Epoch 413/500\n",
            "312/312 [==============================] - 3s 10ms/step - loss: 2.6744e-05 - val_loss: 2.0077e-04\n",
            "Epoch 414/500\n",
            "312/312 [==============================] - 3s 10ms/step - loss: 2.5584e-05 - val_loss: 2.0426e-04\n",
            "Epoch 415/500\n",
            "312/312 [==============================] - 3s 10ms/step - loss: 2.4144e-05 - val_loss: 2.2223e-04\n",
            "Epoch 416/500\n",
            "312/312 [==============================] - 3s 10ms/step - loss: 2.5677e-05 - val_loss: 2.2444e-04\n",
            "Epoch 417/500\n",
            "312/312 [==============================] - 3s 10ms/step - loss: 2.5436e-05 - val_loss: 1.7738e-04\n",
            "Epoch 418/500\n",
            "312/312 [==============================] - 3s 10ms/step - loss: 2.3917e-05 - val_loss: 1.7999e-04\n",
            "Epoch 419/500\n",
            "312/312 [==============================] - 3s 10ms/step - loss: 2.4836e-05 - val_loss: 2.7826e-04\n",
            "Epoch 420/500\n",
            "312/312 [==============================] - 3s 10ms/step - loss: 2.4088e-05 - val_loss: 1.9752e-04\n",
            "Epoch 421/500\n",
            "312/312 [==============================] - 3s 10ms/step - loss: 2.3694e-05 - val_loss: 1.7372e-04\n",
            "Epoch 422/500\n",
            "312/312 [==============================] - 3s 10ms/step - loss: 2.4426e-05 - val_loss: 1.8137e-04\n",
            "Epoch 423/500\n",
            "312/312 [==============================] - 3s 10ms/step - loss: 2.5073e-05 - val_loss: 2.1928e-04\n",
            "Epoch 424/500\n",
            "312/312 [==============================] - 3s 10ms/step - loss: 2.5539e-05 - val_loss: 1.7348e-04\n",
            "Epoch 425/500\n",
            "312/312 [==============================] - 3s 10ms/step - loss: 2.4672e-05 - val_loss: 2.3404e-04\n",
            "Epoch 426/500\n",
            "312/312 [==============================] - 3s 10ms/step - loss: 2.6557e-05 - val_loss: 1.6788e-04\n",
            "Epoch 427/500\n",
            "312/312 [==============================] - 3s 10ms/step - loss: 2.2313e-05 - val_loss: 2.1094e-04\n",
            "Epoch 428/500\n",
            "312/312 [==============================] - 3s 10ms/step - loss: 2.6655e-05 - val_loss: 1.7749e-04\n",
            "Epoch 429/500\n",
            "312/312 [==============================] - 3s 10ms/step - loss: 2.6016e-05 - val_loss: 2.5363e-04\n",
            "Epoch 430/500\n",
            "312/312 [==============================] - 3s 10ms/step - loss: 2.4311e-05 - val_loss: 2.7305e-04\n",
            "Epoch 431/500\n",
            "312/312 [==============================] - 3s 10ms/step - loss: 2.4300e-05 - val_loss: 1.7188e-04\n",
            "Epoch 432/500\n",
            "312/312 [==============================] - 3s 10ms/step - loss: 2.5294e-05 - val_loss: 3.2370e-04\n",
            "Epoch 433/500\n",
            "312/312 [==============================] - 3s 10ms/step - loss: 2.4556e-05 - val_loss: 2.0382e-04\n",
            "Epoch 434/500\n",
            "312/312 [==============================] - 3s 10ms/step - loss: 2.5343e-05 - val_loss: 1.8849e-04\n",
            "Epoch 435/500\n",
            "312/312 [==============================] - 3s 10ms/step - loss: 2.4729e-05 - val_loss: 2.1164e-04\n",
            "Epoch 436/500\n",
            "312/312 [==============================] - 3s 10ms/step - loss: 2.4530e-05 - val_loss: 2.6828e-04\n",
            "Epoch 437/500\n",
            "312/312 [==============================] - 3s 10ms/step - loss: 2.6067e-05 - val_loss: 2.4970e-04\n",
            "Epoch 438/500\n",
            "312/312 [==============================] - 3s 9ms/step - loss: 2.4229e-05 - val_loss: 2.3084e-04\n",
            "Epoch 439/500\n",
            "312/312 [==============================] - 3s 10ms/step - loss: 2.5722e-05 - val_loss: 1.5962e-04\n",
            "Epoch 440/500\n",
            "312/312 [==============================] - 3s 10ms/step - loss: 2.7468e-05 - val_loss: 1.9970e-04\n",
            "Epoch 441/500\n",
            "312/312 [==============================] - 3s 10ms/step - loss: 2.4535e-05 - val_loss: 2.2806e-04\n",
            "Epoch 442/500\n",
            "312/312 [==============================] - 3s 10ms/step - loss: 2.4377e-05 - val_loss: 2.5965e-04\n",
            "Epoch 443/500\n",
            "312/312 [==============================] - 3s 10ms/step - loss: 2.3173e-05 - val_loss: 2.7271e-04\n",
            "Epoch 444/500\n",
            "312/312 [==============================] - 3s 10ms/step - loss: 2.4545e-05 - val_loss: 1.7868e-04\n",
            "Epoch 445/500\n",
            "312/312 [==============================] - 3s 10ms/step - loss: 2.4311e-05 - val_loss: 1.7506e-04\n",
            "Epoch 446/500\n",
            "312/312 [==============================] - 3s 10ms/step - loss: 2.3774e-05 - val_loss: 1.8387e-04\n",
            "Epoch 447/500\n",
            "312/312 [==============================] - 3s 10ms/step - loss: 2.5773e-05 - val_loss: 2.4438e-04\n",
            "Epoch 448/500\n",
            "312/312 [==============================] - 3s 10ms/step - loss: 2.4395e-05 - val_loss: 1.8688e-04\n",
            "Epoch 449/500\n",
            "312/312 [==============================] - 3s 10ms/step - loss: 2.4301e-05 - val_loss: 1.7339e-04\n",
            "Epoch 450/500\n",
            "312/312 [==============================] - 3s 10ms/step - loss: 2.6185e-05 - val_loss: 1.7576e-04\n",
            "Epoch 451/500\n",
            "312/312 [==============================] - 3s 10ms/step - loss: 2.5546e-05 - val_loss: 1.7213e-04\n",
            "Epoch 452/500\n",
            "312/312 [==============================] - 3s 10ms/step - loss: 2.4457e-05 - val_loss: 1.9564e-04\n",
            "Epoch 453/500\n",
            "312/312 [==============================] - 3s 10ms/step - loss: 2.4999e-05 - val_loss: 2.2880e-04\n",
            "Epoch 454/500\n",
            "312/312 [==============================] - 3s 10ms/step - loss: 2.7504e-05 - val_loss: 2.0878e-04\n",
            "Epoch 455/500\n",
            "312/312 [==============================] - 3s 10ms/step - loss: 2.5120e-05 - val_loss: 1.5406e-04\n",
            "Epoch 456/500\n",
            "312/312 [==============================] - 3s 10ms/step - loss: 2.4522e-05 - val_loss: 2.9304e-04\n",
            "Epoch 457/500\n",
            "312/312 [==============================] - 3s 10ms/step - loss: 2.3833e-05 - val_loss: 2.2525e-04\n",
            "Epoch 458/500\n",
            "312/312 [==============================] - 3s 10ms/step - loss: 2.4017e-05 - val_loss: 3.0213e-04\n",
            "Epoch 459/500\n",
            "312/312 [==============================] - 3s 10ms/step - loss: 2.5305e-05 - val_loss: 1.7387e-04\n",
            "Epoch 460/500\n",
            "312/312 [==============================] - 3s 10ms/step - loss: 2.5753e-05 - val_loss: 1.6622e-04\n",
            "Epoch 461/500\n",
            "312/312 [==============================] - 3s 10ms/step - loss: 2.6603e-05 - val_loss: 1.4376e-04\n",
            "Epoch 462/500\n",
            "312/312 [==============================] - 3s 10ms/step - loss: 2.4975e-05 - val_loss: 2.0757e-04\n",
            "Epoch 463/500\n",
            "312/312 [==============================] - 3s 10ms/step - loss: 2.4927e-05 - val_loss: 2.9939e-04\n",
            "Epoch 464/500\n",
            "312/312 [==============================] - 3s 10ms/step - loss: 2.6355e-05 - val_loss: 1.9328e-04\n",
            "Epoch 465/500\n",
            "312/312 [==============================] - 3s 10ms/step - loss: 2.4040e-05 - val_loss: 3.3953e-04\n",
            "Epoch 466/500\n",
            "312/312 [==============================] - 3s 10ms/step - loss: 2.5646e-05 - val_loss: 2.2332e-04\n",
            "Epoch 467/500\n",
            "312/312 [==============================] - 3s 10ms/step - loss: 2.2804e-05 - val_loss: 2.1901e-04\n",
            "Epoch 468/500\n",
            "312/312 [==============================] - 3s 10ms/step - loss: 2.5075e-05 - val_loss: 2.3841e-04\n",
            "Epoch 469/500\n",
            "312/312 [==============================] - 3s 10ms/step - loss: 2.4200e-05 - val_loss: 2.1944e-04\n",
            "Epoch 470/500\n",
            "312/312 [==============================] - 3s 10ms/step - loss: 2.4760e-05 - val_loss: 2.2952e-04\n",
            "Epoch 471/500\n",
            "312/312 [==============================] - 3s 10ms/step - loss: 2.4768e-05 - val_loss: 2.1390e-04\n",
            "Epoch 472/500\n",
            "312/312 [==============================] - 3s 10ms/step - loss: 2.4713e-05 - val_loss: 2.4125e-04\n",
            "Epoch 473/500\n",
            "312/312 [==============================] - 3s 10ms/step - loss: 2.4077e-05 - val_loss: 1.6336e-04\n",
            "Epoch 474/500\n",
            "312/312 [==============================] - 3s 10ms/step - loss: 2.6366e-05 - val_loss: 1.8797e-04\n",
            "Epoch 475/500\n",
            "312/312 [==============================] - 3s 10ms/step - loss: 2.5209e-05 - val_loss: 1.8323e-04\n",
            "Epoch 476/500\n",
            "312/312 [==============================] - 3s 10ms/step - loss: 2.4672e-05 - val_loss: 2.0325e-04\n",
            "Epoch 477/500\n",
            "312/312 [==============================] - 3s 10ms/step - loss: 2.4117e-05 - val_loss: 1.7491e-04\n",
            "Epoch 478/500\n",
            "312/312 [==============================] - 3s 10ms/step - loss: 2.4768e-05 - val_loss: 2.3960e-04\n",
            "Epoch 479/500\n",
            "312/312 [==============================] - 3s 10ms/step - loss: 2.5472e-05 - val_loss: 1.5378e-04\n",
            "Epoch 480/500\n",
            "312/312 [==============================] - 3s 10ms/step - loss: 2.6056e-05 - val_loss: 1.9122e-04\n",
            "Epoch 481/500\n",
            "312/312 [==============================] - 3s 10ms/step - loss: 2.5582e-05 - val_loss: 1.6429e-04\n",
            "Epoch 482/500\n",
            "312/312 [==============================] - 3s 10ms/step - loss: 2.4978e-05 - val_loss: 1.8190e-04\n",
            "Epoch 483/500\n",
            "312/312 [==============================] - 3s 10ms/step - loss: 2.5256e-05 - val_loss: 1.8129e-04\n",
            "Epoch 484/500\n",
            "312/312 [==============================] - 3s 10ms/step - loss: 2.4246e-05 - val_loss: 1.6830e-04\n",
            "Epoch 485/500\n",
            "312/312 [==============================] - 3s 10ms/step - loss: 2.2918e-05 - val_loss: 2.4216e-04\n",
            "Epoch 486/500\n",
            "312/312 [==============================] - 3s 10ms/step - loss: 2.3492e-05 - val_loss: 2.2542e-04\n",
            "Epoch 487/500\n",
            "312/312 [==============================] - 3s 10ms/step - loss: 2.4708e-05 - val_loss: 1.6348e-04\n",
            "Epoch 488/500\n",
            "312/312 [==============================] - 3s 10ms/step - loss: 2.6599e-05 - val_loss: 2.6563e-04\n",
            "Epoch 489/500\n",
            "312/312 [==============================] - 3s 10ms/step - loss: 2.3682e-05 - val_loss: 1.9841e-04\n",
            "Epoch 490/500\n",
            "312/312 [==============================] - 3s 10ms/step - loss: 2.5783e-05 - val_loss: 1.8591e-04\n",
            "Epoch 491/500\n",
            "312/312 [==============================] - 3s 10ms/step - loss: 2.5039e-05 - val_loss: 2.9194e-04\n",
            "Epoch 492/500\n",
            "312/312 [==============================] - 3s 10ms/step - loss: 2.3349e-05 - val_loss: 2.2040e-04\n",
            "Epoch 493/500\n",
            "312/312 [==============================] - 3s 10ms/step - loss: 2.3779e-05 - val_loss: 1.9723e-04\n",
            "Epoch 494/500\n",
            "312/312 [==============================] - 3s 10ms/step - loss: 2.5592e-05 - val_loss: 2.1313e-04\n",
            "Epoch 495/500\n",
            "312/312 [==============================] - 3s 10ms/step - loss: 2.5930e-05 - val_loss: 2.1277e-04\n",
            "Epoch 496/500\n",
            "312/312 [==============================] - 3s 10ms/step - loss: 2.4966e-05 - val_loss: 1.8171e-04\n",
            "Epoch 497/500\n",
            "312/312 [==============================] - 3s 10ms/step - loss: 2.5373e-05 - val_loss: 1.6447e-04\n",
            "Epoch 498/500\n",
            "312/312 [==============================] - 3s 10ms/step - loss: 2.6494e-05 - val_loss: 2.2806e-04\n",
            "Epoch 499/500\n",
            "312/312 [==============================] - 3s 10ms/step - loss: 2.4496e-05 - val_loss: 1.7633e-04\n",
            "Epoch 500/500\n",
            "312/312 [==============================] - 3s 10ms/step - loss: 2.4808e-05 - val_loss: 1.7817e-04\n"
          ],
          "name": "stdout"
        }
      ]
    },
    {
      "cell_type": "code",
      "metadata": {
        "colab": {
          "base_uri": "https://localhost:8080/"
        },
        "id": "h_Lf0VAy6wyh",
        "outputId": "b48f4494-e347-44bf-b451-a2a7253e4629"
      },
      "source": [
        "model.summary()"
      ],
      "execution_count": 34,
      "outputs": [
        {
          "output_type": "stream",
          "text": [
            "Model: \"sequential\"\n",
            "_________________________________________________________________\n",
            "Layer (type)                 Output Shape              Param #   \n",
            "=================================================================\n",
            "lstm (LSTM)                  (None, 4)                 112       \n",
            "_________________________________________________________________\n",
            "dense (Dense)                (None, 1)                 5         \n",
            "=================================================================\n",
            "Total params: 117\n",
            "Trainable params: 117\n",
            "Non-trainable params: 0\n",
            "_________________________________________________________________\n"
          ],
          "name": "stdout"
        }
      ]
    },
    {
      "cell_type": "code",
      "metadata": {
        "colab": {
          "base_uri": "https://localhost:8080/"
        },
        "id": "8SRIikpniYxI",
        "outputId": "b74d48b8-3805-440e-93a3-717a3befae10"
      },
      "source": [
        "print(history.history.keys())"
      ],
      "execution_count": 39,
      "outputs": [
        {
          "output_type": "stream",
          "text": [
            "dict_keys(['loss', 'val_loss'])\n"
          ],
          "name": "stdout"
        }
      ]
    },
    {
      "cell_type": "code",
      "metadata": {
        "colab": {
          "base_uri": "https://localhost:8080/",
          "height": 239
        },
        "id": "aJRvlvobiizO",
        "outputId": "ad5d7a6b-49cd-44ba-e8a0-52445b6cdbea"
      },
      "source": [
        "plt.plot(history.history['accuracy'])\r\n",
        "plt.plot(history.history['val_accuracy'])\r\n",
        "plt.title('model accuracy')\r\n",
        "plt.ylabel('accuracy')\r\n",
        "plt.xlabel('epoch')\r\n",
        "plt.legend(['train', 'test'], loc='upper left')\r\n",
        "plt.show()"
      ],
      "execution_count": 36,
      "outputs": [
        {
          "output_type": "error",
          "ename": "KeyError",
          "evalue": "ignored",
          "traceback": [
            "\u001b[0;31m---------------------------------------------------------------------------\u001b[0m",
            "\u001b[0;31mKeyError\u001b[0m                                  Traceback (most recent call last)",
            "\u001b[0;32m<ipython-input-36-3064e8782ad5>\u001b[0m in \u001b[0;36m<module>\u001b[0;34m()\u001b[0m\n\u001b[0;32m----> 1\u001b[0;31m \u001b[0mplt\u001b[0m\u001b[0;34m.\u001b[0m\u001b[0mplot\u001b[0m\u001b[0;34m(\u001b[0m\u001b[0mhistory\u001b[0m\u001b[0;34m.\u001b[0m\u001b[0mhistory\u001b[0m\u001b[0;34m[\u001b[0m\u001b[0;34m'accuracy'\u001b[0m\u001b[0;34m]\u001b[0m\u001b[0;34m)\u001b[0m\u001b[0;34m\u001b[0m\u001b[0;34m\u001b[0m\u001b[0m\n\u001b[0m\u001b[1;32m      2\u001b[0m \u001b[0mplt\u001b[0m\u001b[0;34m.\u001b[0m\u001b[0mplot\u001b[0m\u001b[0;34m(\u001b[0m\u001b[0mhistory\u001b[0m\u001b[0;34m.\u001b[0m\u001b[0mhistory\u001b[0m\u001b[0;34m[\u001b[0m\u001b[0;34m'val_accuracy'\u001b[0m\u001b[0;34m]\u001b[0m\u001b[0;34m)\u001b[0m\u001b[0;34m\u001b[0m\u001b[0;34m\u001b[0m\u001b[0m\n\u001b[1;32m      3\u001b[0m \u001b[0mplt\u001b[0m\u001b[0;34m.\u001b[0m\u001b[0mtitle\u001b[0m\u001b[0;34m(\u001b[0m\u001b[0;34m'model accuracy'\u001b[0m\u001b[0;34m)\u001b[0m\u001b[0;34m\u001b[0m\u001b[0;34m\u001b[0m\u001b[0m\n\u001b[1;32m      4\u001b[0m \u001b[0mplt\u001b[0m\u001b[0;34m.\u001b[0m\u001b[0mylabel\u001b[0m\u001b[0;34m(\u001b[0m\u001b[0;34m'accuracy'\u001b[0m\u001b[0;34m)\u001b[0m\u001b[0;34m\u001b[0m\u001b[0;34m\u001b[0m\u001b[0m\n\u001b[1;32m      5\u001b[0m \u001b[0mplt\u001b[0m\u001b[0;34m.\u001b[0m\u001b[0mxlabel\u001b[0m\u001b[0;34m(\u001b[0m\u001b[0;34m'epoch'\u001b[0m\u001b[0;34m)\u001b[0m\u001b[0;34m\u001b[0m\u001b[0;34m\u001b[0m\u001b[0m\n",
            "\u001b[0;31mKeyError\u001b[0m: 'accuracy'"
          ]
        }
      ]
    },
    {
      "cell_type": "code",
      "metadata": {
        "colab": {
          "base_uri": "https://localhost:8080/",
          "height": 294
        },
        "id": "iJw_PjmQijXy",
        "outputId": "2c44a984-26fb-428c-c0b5-70be1da151ec"
      },
      "source": [
        "plt.plot(history.history['loss'])\r\n",
        "plt.plot(history.history['val_loss'])\r\n",
        "plt.title('model loss')\r\n",
        "plt.ylabel('loss')\r\n",
        "plt.xlabel('epoch')\r\n",
        "plt.legend(['train', 'test'], loc='upper left')\r\n",
        "plt.show()"
      ],
      "execution_count": 41,
      "outputs": [
        {
          "output_type": "display_data",
          "data": {
            "image/png": "[encoded data removed]",
            "text/plain": [
              "<Figure size 432x288 with 1 Axes>"
            ]
          },
          "metadata": {
            "tags": [],
            "needs_background": "light"
          }
        }
      ]
    },
    {
      "cell_type": "markdown",
      "metadata": {
        "id": "mtPdMEOIDBoP"
      },
      "source": [
        "#Agora vamos aplicar o modelo"
      ]
    },
    {
      "cell_type": "code",
      "metadata": {
        "id": "fiIgM5HJ6wyh"
      },
      "source": [
        "trainPredict = model.predict(Xtrain)\n",
        "testPredict = model.predict(Xtest)"
      ],
      "execution_count": 42,
      "outputs": []
    },
    {
      "cell_type": "markdown",
      "metadata": {
        "id": "POBFG840DEba"
      },
      "source": [
        "#Concatenamo o Array de previsão com um array de zeros, pra que os dados estejam em um formato aceitável para a transformação inversa da normalização"
      ]
    },
    {
      "cell_type": "code",
      "metadata": {
        "id": "7k2pVFBz6wyi"
      },
      "source": [
        "trainPredict = np.c_[trainPredict, np.zeros(trainPredict.shape)]\n",
        "testPredict = np.c_[testPredict, np.zeros(testPredict.shape)]"
      ],
      "execution_count": 43,
      "outputs": []
    },
    {
      "cell_type": "markdown",
      "metadata": {
        "id": "LD9SD4_KDwQ_"
      },
      "source": [
        "#invertendo para valores reais com o scaler e removendo a segunda coluna de zeros"
      ]
    },
    {
      "cell_type": "code",
      "metadata": {
        "id": "mYG1EtBI6wyi"
      },
      "source": [
        "# invert predictions\n",
        "trainPredict = scaler.inverse_transform(trainPredict)\n",
        "trainPredict = [x[0] for x in trainPredict]\n",
        "\n",
        "testPredict = scaler.inverse_transform(testPredict)\n",
        "testPredict = [x[0] for x in testPredict]\n"
      ],
      "execution_count": 44,
      "outputs": []
    },
    {
      "cell_type": "code",
      "metadata": {
        "colab": {
          "base_uri": "https://localhost:8080/"
        },
        "id": "--sE2Oao6wyi",
        "outputId": "ac94f1a9-89d3-402b-8fbc-b434165643d2"
      },
      "source": [
        "print(trainPredict[-5:])\n",
        "print(testPredict[-5:])"
      ],
      "execution_count": 45,
      "outputs": [
        {
          "output_type": "stream",
          "text": [
            "[15782.940522474704, 15793.215216778715, 15921.840706491525, 15919.446186144896, 16193.56960130387]\n",
            "[24148.401628580268, 24193.34631846409, 23854.82290871948, 23426.640015319168, 23426.45997619536]\n"
          ],
          "name": "stdout"
        }
      ]
    },
    {
      "cell_type": "code",
      "metadata": {
        "id": "kX0rBOk16wyj"
      },
      "source": [
        "from sklearn.metrics import mean_squared_error"
      ],
      "execution_count": 46,
      "outputs": []
    },
    {
      "cell_type": "code",
      "metadata": {
        "colab": {
          "base_uri": "https://localhost:8080/"
        },
        "id": "bDfdFCpz6wyj",
        "outputId": "ef2ab4c1-6652-46d3-912b-2667d3e2e091"
      },
      "source": [
        "# calculate root mean squared error\n",
        "trainScore = mean_squared_error([x[0][0] for x in Xtrain], trainPredict, squared=False)\n",
        "print(\"Train Score: %.2f RMSE\" % (trainScore))\n",
        "\n",
        "testScore = mean_squared_error([x[0][0] for x in Xtest], testPredict, squared=False)\n",
        "print(\"Test Score: %.2f RMSE\" % (testScore))"
      ],
      "execution_count": 47,
      "outputs": [
        {
          "output_type": "stream",
          "text": [
            "Train Score: 10233.89 RMSE\n",
            "Test Score: 20000.38 RMSE\n"
          ],
          "name": "stdout"
        }
      ]
    },
    {
      "cell_type": "code",
      "metadata": {
        "id": "izfpYrL66wyj"
      },
      "source": [
        "Y_compare = np.c_[ytest, np.zeros(ytest.shape)]\r\n",
        "Y_compare = scaler.inverse_transform(Y_compare)\r\n",
        "Y_compare = [x[0] for x in Y_compare]"
      ],
      "execution_count": 48,
      "outputs": []
    },
    {
      "cell_type": "code",
      "metadata": {
        "colab": {
          "base_uri": "https://localhost:8080/"
        },
        "id": "wXdnNqhpyCA8",
        "outputId": "ae6a76e8-b5cd-40ae-c1dc-ad4a44a437eb"
      },
      "source": [
        "print(Y_compare[-10:])\r\n",
        "print(testPredict[-10:])"
      ],
      "execution_count": 49,
      "outputs": [
        {
          "output_type": "stream",
          "text": [
            "[24947.669921875, 24388.94921875, 24423.259765624996, 24370.240234375, 24527.269531250004, 24597.380859375, 24100.509765625, 23592.980468749996, 23675.640625, 23323.660156249996]\n",
            "[24598.20722074976, 24407.616419371716, 24134.915313290814, 24067.053027862745, 24068.72600679781, 24148.401628580268, 24193.34631846409, 23854.82290871948, 23426.640015319168, 23426.45997619536]\n"
          ],
          "name": "stdout"
        }
      ]
    },
    {
      "cell_type": "code",
      "metadata": {
        "id": "NDgYAc3nyWiR"
      },
      "source": [
        "evaluate = pd.DataFrame(Y_compare, testPredict)"
      ],
      "execution_count": 57,
      "outputs": []
    },
    {
      "cell_type": "code",
      "metadata": {
        "colab": {
          "base_uri": "https://localhost:8080/",
          "height": 340
        },
        "id": "x75Tv1HW3iUw",
        "outputId": "ffa8ebe9-a893-44eb-9ede-bfa57682ae17"
      },
      "source": [
        "evaluate.tail(10)"
      ],
      "execution_count": 58,
      "outputs": [
        {
          "output_type": "execute_result",
          "data": {
            "text/html": [
              "<div>\n",
              "<style scoped>\n",
              "    .dataframe tbody tr th:only-of-type {\n",
              "        vertical-align: middle;\n",
              "    }\n",
              "\n",
              "    .dataframe tbody tr th {\n",
              "        vertical-align: top;\n",
              "    }\n",
              "\n",
              "    .dataframe thead th {\n",
              "        text-align: right;\n",
              "    }\n",
              "</style>\n",
              "<table border=\"1\" class=\"dataframe\">\n",
              "  <thead>\n",
              "    <tr style=\"text-align: right;\">\n",
              "      <th></th>\n",
              "      <th>0</th>\n",
              "    </tr>\n",
              "  </thead>\n",
              "  <tbody>\n",
              "    <tr>\n",
              "      <th>24598.207221</th>\n",
              "      <td>24947.669922</td>\n",
              "    </tr>\n",
              "    <tr>\n",
              "      <th>24407.616419</th>\n",
              "      <td>24388.949219</td>\n",
              "    </tr>\n",
              "    <tr>\n",
              "      <th>24134.915313</th>\n",
              "      <td>24423.259766</td>\n",
              "    </tr>\n",
              "    <tr>\n",
              "      <th>24067.053028</th>\n",
              "      <td>24370.240234</td>\n",
              "    </tr>\n",
              "    <tr>\n",
              "      <th>24068.726007</th>\n",
              "      <td>24527.269531</td>\n",
              "    </tr>\n",
              "    <tr>\n",
              "      <th>24148.401629</th>\n",
              "      <td>24597.380859</td>\n",
              "    </tr>\n",
              "    <tr>\n",
              "      <th>24193.346318</th>\n",
              "      <td>24100.509766</td>\n",
              "    </tr>\n",
              "    <tr>\n",
              "      <th>23854.822909</th>\n",
              "      <td>23592.980469</td>\n",
              "    </tr>\n",
              "    <tr>\n",
              "      <th>23426.640015</th>\n",
              "      <td>23675.640625</td>\n",
              "    </tr>\n",
              "    <tr>\n",
              "      <th>23426.459976</th>\n",
              "      <td>23323.660156</td>\n",
              "    </tr>\n",
              "  </tbody>\n",
              "</table>\n",
              "</div>"
            ],
            "text/plain": [
              "                         0\n",
              "24598.207221  24947.669922\n",
              "24407.616419  24388.949219\n",
              "24134.915313  24423.259766\n",
              "24067.053028  24370.240234\n",
              "24068.726007  24527.269531\n",
              "24148.401629  24597.380859\n",
              "24193.346318  24100.509766\n",
              "23854.822909  23592.980469\n",
              "23426.640015  23675.640625\n",
              "23426.459976  23323.660156"
            ]
          },
          "metadata": {
            "tags": []
          },
          "execution_count": 58
        }
      ]
    },
    {
      "cell_type": "code",
      "metadata": {
        "id": "qgUhGgr13oqO"
      },
      "source": [
        "evaluate['Previsto'] = evaluate.index"
      ],
      "execution_count": 59,
      "outputs": []
    },
    {
      "cell_type": "code",
      "metadata": {
        "id": "znrOOtBL30SY"
      },
      "source": [
        "evaluate.reset_index(drop=True, inplace=True)"
      ],
      "execution_count": 60,
      "outputs": []
    },
    {
      "cell_type": "code",
      "metadata": {
        "id": "zkCDVI7PSMEb"
      },
      "source": [
        "evaluate.columns=['Real', 'Previsto']"
      ],
      "execution_count": 61,
      "outputs": []
    },
    {
      "cell_type": "code",
      "metadata": {
        "colab": {
          "base_uri": "https://localhost:8080/",
          "height": 487
        },
        "id": "3hcjRE_qR6UR",
        "outputId": "c86a0754-4dc8-4012-9a6a-ac5ae8b9c97b"
      },
      "source": [
        "evaluate.head(15)"
      ],
      "execution_count": 62,
      "outputs": [
        {
          "output_type": "execute_result",
          "data": {
            "text/html": [
              "<div>\n",
              "<style scoped>\n",
              "    .dataframe tbody tr th:only-of-type {\n",
              "        vertical-align: middle;\n",
              "    }\n",
              "\n",
              "    .dataframe tbody tr th {\n",
              "        vertical-align: top;\n",
              "    }\n",
              "\n",
              "    .dataframe thead th {\n",
              "        text-align: right;\n",
              "    }\n",
              "</style>\n",
              "<table border=\"1\" class=\"dataframe\">\n",
              "  <thead>\n",
              "    <tr style=\"text-align: right;\">\n",
              "      <th></th>\n",
              "      <th>Real</th>\n",
              "      <th>Previsto</th>\n",
              "    </tr>\n",
              "  </thead>\n",
              "  <tbody>\n",
              "    <tr>\n",
              "      <th>0</th>\n",
              "      <td>16133.230469</td>\n",
              "      <td>16077.744893</td>\n",
              "    </tr>\n",
              "    <tr>\n",
              "      <th>1</th>\n",
              "      <td>16103.299805</td>\n",
              "      <td>16158.016029</td>\n",
              "    </tr>\n",
              "    <tr>\n",
              "      <th>2</th>\n",
              "      <td>16207.139648</td>\n",
              "      <td>16142.841501</td>\n",
              "    </tr>\n",
              "    <tr>\n",
              "      <th>3</th>\n",
              "      <td>16179.660156</td>\n",
              "      <td>16235.475785</td>\n",
              "    </tr>\n",
              "    <tr>\n",
              "      <th>4</th>\n",
              "      <td>16198.410156</td>\n",
              "      <td>16219.047907</td>\n",
              "    </tr>\n",
              "    <tr>\n",
              "      <th>5</th>\n",
              "      <td>16272.650391</td>\n",
              "      <td>16231.269794</td>\n",
              "    </tr>\n",
              "    <tr>\n",
              "      <th>6</th>\n",
              "      <td>16321.709961</td>\n",
              "      <td>16304.252115</td>\n",
              "    </tr>\n",
              "    <tr>\n",
              "      <th>7</th>\n",
              "      <td>16168.030273</td>\n",
              "      <td>16355.512023</td>\n",
              "    </tr>\n",
              "    <tr>\n",
              "      <th>8</th>\n",
              "      <td>16395.880859</td>\n",
              "      <td>16217.205968</td>\n",
              "    </tr>\n",
              "    <tr>\n",
              "      <th>9</th>\n",
              "      <td>16360.179688</td>\n",
              "      <td>16412.631513</td>\n",
              "    </tr>\n",
              "    <tr>\n",
              "      <th>10</th>\n",
              "      <td>16421.890625</td>\n",
              "      <td>16400.222662</td>\n",
              "    </tr>\n",
              "    <tr>\n",
              "      <th>11</th>\n",
              "      <td>16452.720703</td>\n",
              "      <td>16448.690579</td>\n",
              "    </tr>\n",
              "    <tr>\n",
              "      <th>12</th>\n",
              "      <td>16418.679688</td>\n",
              "      <td>16485.070947</td>\n",
              "    </tr>\n",
              "    <tr>\n",
              "      <th>13</th>\n",
              "      <td>16351.250000</td>\n",
              "      <td>16455.476669</td>\n",
              "    </tr>\n",
              "    <tr>\n",
              "      <th>14</th>\n",
              "      <td>16340.080078</td>\n",
              "      <td>16390.567026</td>\n",
              "    </tr>\n",
              "  </tbody>\n",
              "</table>\n",
              "</div>"
            ],
            "text/plain": [
              "            Real      Previsto\n",
              "0   16133.230469  16077.744893\n",
              "1   16103.299805  16158.016029\n",
              "2   16207.139648  16142.841501\n",
              "3   16179.660156  16235.475785\n",
              "4   16198.410156  16219.047907\n",
              "5   16272.650391  16231.269794\n",
              "6   16321.709961  16304.252115\n",
              "7   16168.030273  16355.512023\n",
              "8   16395.880859  16217.205968\n",
              "9   16360.179688  16412.631513\n",
              "10  16421.890625  16400.222662\n",
              "11  16452.720703  16448.690579\n",
              "12  16418.679688  16485.070947\n",
              "13  16351.250000  16455.476669\n",
              "14  16340.080078  16390.567026"
            ]
          },
          "metadata": {
            "tags": []
          },
          "execution_count": 62
        }
      ]
    },
    {
      "cell_type": "code",
      "metadata": {
        "id": "WN_hfyJL4V3A"
      },
      "source": [
        "evaluate[\"% Real\"] = evaluate.Real.pct_change()\r\n",
        "evaluate[\"% Previsto\"] = evaluate.Previsto.pct_change()"
      ],
      "execution_count": 63,
      "outputs": []
    },
    {
      "cell_type": "code",
      "metadata": {
        "colab": {
          "base_uri": "https://localhost:8080/",
          "height": 487
        },
        "id": "VzdiqjKwTK9d",
        "outputId": "dc9aca6e-2ae6-489b-a151-8868a094d461"
      },
      "source": [
        "evaluate.head(15)"
      ],
      "execution_count": 64,
      "outputs": [
        {
          "output_type": "execute_result",
          "data": {
            "text/html": [
              "<div>\n",
              "<style scoped>\n",
              "    .dataframe tbody tr th:only-of-type {\n",
              "        vertical-align: middle;\n",
              "    }\n",
              "\n",
              "    .dataframe tbody tr th {\n",
              "        vertical-align: top;\n",
              "    }\n",
              "\n",
              "    .dataframe thead th {\n",
              "        text-align: right;\n",
              "    }\n",
              "</style>\n",
              "<table border=\"1\" class=\"dataframe\">\n",
              "  <thead>\n",
              "    <tr style=\"text-align: right;\">\n",
              "      <th></th>\n",
              "      <th>Real</th>\n",
              "      <th>Previsto</th>\n",
              "      <th>% Real</th>\n",
              "      <th>% Previsto</th>\n",
              "    </tr>\n",
              "  </thead>\n",
              "  <tbody>\n",
              "    <tr>\n",
              "      <th>0</th>\n",
              "      <td>16133.230469</td>\n",
              "      <td>16077.744893</td>\n",
              "      <td>NaN</td>\n",
              "      <td>NaN</td>\n",
              "    </tr>\n",
              "    <tr>\n",
              "      <th>1</th>\n",
              "      <td>16103.299805</td>\n",
              "      <td>16158.016029</td>\n",
              "      <td>-0.001855</td>\n",
              "      <td>0.004993</td>\n",
              "    </tr>\n",
              "    <tr>\n",
              "      <th>2</th>\n",
              "      <td>16207.139648</td>\n",
              "      <td>16142.841501</td>\n",
              "      <td>0.006448</td>\n",
              "      <td>-0.000939</td>\n",
              "    </tr>\n",
              "    <tr>\n",
              "      <th>3</th>\n",
              "      <td>16179.660156</td>\n",
              "      <td>16235.475785</td>\n",
              "      <td>-0.001696</td>\n",
              "      <td>0.005738</td>\n",
              "    </tr>\n",
              "    <tr>\n",
              "      <th>4</th>\n",
              "      <td>16198.410156</td>\n",
              "      <td>16219.047907</td>\n",
              "      <td>0.001159</td>\n",
              "      <td>-0.001012</td>\n",
              "    </tr>\n",
              "    <tr>\n",
              "      <th>5</th>\n",
              "      <td>16272.650391</td>\n",
              "      <td>16231.269794</td>\n",
              "      <td>0.004583</td>\n",
              "      <td>0.000754</td>\n",
              "    </tr>\n",
              "    <tr>\n",
              "      <th>6</th>\n",
              "      <td>16321.709961</td>\n",
              "      <td>16304.252115</td>\n",
              "      <td>0.003015</td>\n",
              "      <td>0.004496</td>\n",
              "    </tr>\n",
              "    <tr>\n",
              "      <th>7</th>\n",
              "      <td>16168.030273</td>\n",
              "      <td>16355.512023</td>\n",
              "      <td>-0.009416</td>\n",
              "      <td>0.003144</td>\n",
              "    </tr>\n",
              "    <tr>\n",
              "      <th>8</th>\n",
              "      <td>16395.880859</td>\n",
              "      <td>16217.205968</td>\n",
              "      <td>0.014093</td>\n",
              "      <td>-0.008456</td>\n",
              "    </tr>\n",
              "    <tr>\n",
              "      <th>9</th>\n",
              "      <td>16360.179688</td>\n",
              "      <td>16412.631513</td>\n",
              "      <td>-0.002177</td>\n",
              "      <td>0.012051</td>\n",
              "    </tr>\n",
              "    <tr>\n",
              "      <th>10</th>\n",
              "      <td>16421.890625</td>\n",
              "      <td>16400.222662</td>\n",
              "      <td>0.003772</td>\n",
              "      <td>-0.000756</td>\n",
              "    </tr>\n",
              "    <tr>\n",
              "      <th>11</th>\n",
              "      <td>16452.720703</td>\n",
              "      <td>16448.690579</td>\n",
              "      <td>0.001877</td>\n",
              "      <td>0.002955</td>\n",
              "    </tr>\n",
              "    <tr>\n",
              "      <th>12</th>\n",
              "      <td>16418.679688</td>\n",
              "      <td>16485.070947</td>\n",
              "      <td>-0.002069</td>\n",
              "      <td>0.002212</td>\n",
              "    </tr>\n",
              "    <tr>\n",
              "      <th>13</th>\n",
              "      <td>16351.250000</td>\n",
              "      <td>16455.476669</td>\n",
              "      <td>-0.004107</td>\n",
              "      <td>-0.001795</td>\n",
              "    </tr>\n",
              "    <tr>\n",
              "      <th>14</th>\n",
              "      <td>16340.080078</td>\n",
              "      <td>16390.567026</td>\n",
              "      <td>-0.000683</td>\n",
              "      <td>-0.003945</td>\n",
              "    </tr>\n",
              "  </tbody>\n",
              "</table>\n",
              "</div>"
            ],
            "text/plain": [
              "            Real      Previsto    % Real  % Previsto\n",
              "0   16133.230469  16077.744893       NaN         NaN\n",
              "1   16103.299805  16158.016029 -0.001855    0.004993\n",
              "2   16207.139648  16142.841501  0.006448   -0.000939\n",
              "3   16179.660156  16235.475785 -0.001696    0.005738\n",
              "4   16198.410156  16219.047907  0.001159   -0.001012\n",
              "5   16272.650391  16231.269794  0.004583    0.000754\n",
              "6   16321.709961  16304.252115  0.003015    0.004496\n",
              "7   16168.030273  16355.512023 -0.009416    0.003144\n",
              "8   16395.880859  16217.205968  0.014093   -0.008456\n",
              "9   16360.179688  16412.631513 -0.002177    0.012051\n",
              "10  16421.890625  16400.222662  0.003772   -0.000756\n",
              "11  16452.720703  16448.690579  0.001877    0.002955\n",
              "12  16418.679688  16485.070947 -0.002069    0.002212\n",
              "13  16351.250000  16455.476669 -0.004107   -0.001795\n",
              "14  16340.080078  16390.567026 -0.000683   -0.003945"
            ]
          },
          "metadata": {
            "tags": []
          },
          "execution_count": 64
        }
      ]
    },
    {
      "cell_type": "code",
      "metadata": {
        "id": "wBE0I4QjWZna"
      },
      "source": [
        "def compare(real, previsto):\r\n",
        "  if (real < 0 and previsto < 0) or (real > 0 and previsto > 0):\r\n",
        "    return 1\r\n",
        "  else:\r\n",
        "    return 0\r\n"
      ],
      "execution_count": 65,
      "outputs": []
    },
    {
      "cell_type": "code",
      "metadata": {
        "id": "jrfhplrOj11V"
      },
      "source": [
        "def compare2(dataframe):\r\n",
        "  if (dataframe[2] < 0 and dataframe[3] < 0) or (dataframe[2] > 0 and dataframe[3] > 0):\r\n",
        "    return 1\r\n",
        "  else:\r\n",
        "    return 0"
      ],
      "execution_count": 66,
      "outputs": []
    },
    {
      "cell_type": "code",
      "metadata": {
        "id": "JIz5Xb78XHqS"
      },
      "source": [
        "evaluate['Compare'] = evaluate.apply(compare2, axis=1)"
      ],
      "execution_count": 67,
      "outputs": []
    },
    {
      "cell_type": "code",
      "metadata": {
        "colab": {
          "base_uri": "https://localhost:8080/",
          "height": 340
        },
        "id": "EnUtWlnfkcKa",
        "outputId": "574dfea9-4be2-4b9e-bc9c-1e145f6d46b9"
      },
      "source": [
        "evaluate.head(10)"
      ],
      "execution_count": 68,
      "outputs": [
        {
          "output_type": "execute_result",
          "data": {
            "text/html": [
              "<div>\n",
              "<style scoped>\n",
              "    .dataframe tbody tr th:only-of-type {\n",
              "        vertical-align: middle;\n",
              "    }\n",
              "\n",
              "    .dataframe tbody tr th {\n",
              "        vertical-align: top;\n",
              "    }\n",
              "\n",
              "    .dataframe thead th {\n",
              "        text-align: right;\n",
              "    }\n",
              "</style>\n",
              "<table border=\"1\" class=\"dataframe\">\n",
              "  <thead>\n",
              "    <tr style=\"text-align: right;\">\n",
              "      <th></th>\n",
              "      <th>Real</th>\n",
              "      <th>Previsto</th>\n",
              "      <th>% Real</th>\n",
              "      <th>% Previsto</th>\n",
              "      <th>Compare</th>\n",
              "    </tr>\n",
              "  </thead>\n",
              "  <tbody>\n",
              "    <tr>\n",
              "      <th>0</th>\n",
              "      <td>16133.230469</td>\n",
              "      <td>16077.744893</td>\n",
              "      <td>NaN</td>\n",
              "      <td>NaN</td>\n",
              "      <td>0</td>\n",
              "    </tr>\n",
              "    <tr>\n",
              "      <th>1</th>\n",
              "      <td>16103.299805</td>\n",
              "      <td>16158.016029</td>\n",
              "      <td>-0.001855</td>\n",
              "      <td>0.004993</td>\n",
              "      <td>0</td>\n",
              "    </tr>\n",
              "    <tr>\n",
              "      <th>2</th>\n",
              "      <td>16207.139648</td>\n",
              "      <td>16142.841501</td>\n",
              "      <td>0.006448</td>\n",
              "      <td>-0.000939</td>\n",
              "      <td>0</td>\n",
              "    </tr>\n",
              "    <tr>\n",
              "      <th>3</th>\n",
              "      <td>16179.660156</td>\n",
              "      <td>16235.475785</td>\n",
              "      <td>-0.001696</td>\n",
              "      <td>0.005738</td>\n",
              "      <td>0</td>\n",
              "    </tr>\n",
              "    <tr>\n",
              "      <th>4</th>\n",
              "      <td>16198.410156</td>\n",
              "      <td>16219.047907</td>\n",
              "      <td>0.001159</td>\n",
              "      <td>-0.001012</td>\n",
              "      <td>0</td>\n",
              "    </tr>\n",
              "    <tr>\n",
              "      <th>5</th>\n",
              "      <td>16272.650391</td>\n",
              "      <td>16231.269794</td>\n",
              "      <td>0.004583</td>\n",
              "      <td>0.000754</td>\n",
              "      <td>1</td>\n",
              "    </tr>\n",
              "    <tr>\n",
              "      <th>6</th>\n",
              "      <td>16321.709961</td>\n",
              "      <td>16304.252115</td>\n",
              "      <td>0.003015</td>\n",
              "      <td>0.004496</td>\n",
              "      <td>1</td>\n",
              "    </tr>\n",
              "    <tr>\n",
              "      <th>7</th>\n",
              "      <td>16168.030273</td>\n",
              "      <td>16355.512023</td>\n",
              "      <td>-0.009416</td>\n",
              "      <td>0.003144</td>\n",
              "      <td>0</td>\n",
              "    </tr>\n",
              "    <tr>\n",
              "      <th>8</th>\n",
              "      <td>16395.880859</td>\n",
              "      <td>16217.205968</td>\n",
              "      <td>0.014093</td>\n",
              "      <td>-0.008456</td>\n",
              "      <td>0</td>\n",
              "    </tr>\n",
              "    <tr>\n",
              "      <th>9</th>\n",
              "      <td>16360.179688</td>\n",
              "      <td>16412.631513</td>\n",
              "      <td>-0.002177</td>\n",
              "      <td>0.012051</td>\n",
              "      <td>0</td>\n",
              "    </tr>\n",
              "  </tbody>\n",
              "</table>\n",
              "</div>"
            ],
            "text/plain": [
              "           Real      Previsto    % Real  % Previsto  Compare\n",
              "0  16133.230469  16077.744893       NaN         NaN        0\n",
              "1  16103.299805  16158.016029 -0.001855    0.004993        0\n",
              "2  16207.139648  16142.841501  0.006448   -0.000939        0\n",
              "3  16179.660156  16235.475785 -0.001696    0.005738        0\n",
              "4  16198.410156  16219.047907  0.001159   -0.001012        0\n",
              "5  16272.650391  16231.269794  0.004583    0.000754        1\n",
              "6  16321.709961  16304.252115  0.003015    0.004496        1\n",
              "7  16168.030273  16355.512023 -0.009416    0.003144        0\n",
              "8  16395.880859  16217.205968  0.014093   -0.008456        0\n",
              "9  16360.179688  16412.631513 -0.002177    0.012051        0"
            ]
          },
          "metadata": {
            "tags": []
          },
          "execution_count": 68
        }
      ]
    },
    {
      "cell_type": "code",
      "metadata": {
        "colab": {
          "base_uri": "https://localhost:8080/"
        },
        "id": "FKU6fICqkjCr",
        "outputId": "03715bec-01f9-4995-ce13-f0b0e1a7c8fa"
      },
      "source": [
        "evaluate.Compare.sum()"
      ],
      "execution_count": 69,
      "outputs": [
        {
          "output_type": "execute_result",
          "data": {
            "text/plain": [
              "616"
            ]
          },
          "metadata": {
            "tags": []
          },
          "execution_count": 69
        }
      ]
    },
    {
      "cell_type": "code",
      "metadata": {
        "colab": {
          "base_uri": "https://localhost:8080/"
        },
        "id": "fY0hzxcujRFf",
        "outputId": "159c5cd5-eea2-4882-c7a9-17f5afbe8270"
      },
      "source": [
        "Indice_Acerto = (evaluate.Compare.sum())/len(evaluate)\r\n",
        "print(\"O indice de acerto é:\")\r\n",
        "print(Indice_Acerto)"
      ],
      "execution_count": 70,
      "outputs": [
        {
          "output_type": "stream",
          "text": [
            "O indice de acerto é:\n",
            "0.5057471264367817\n"
          ],
          "name": "stdout"
        }
      ]
    }
  ]
}